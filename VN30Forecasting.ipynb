{
  "nbformat": 4,
  "nbformat_minor": 0,
  "metadata": {
    "colab": {
      "name": "VN30 Forecasting.ipynb",
      "provenance": [],
      "collapsed_sections": []
    },
    "kernelspec": {
      "name": "python3",
      "display_name": "Python 3"
    },
    "language_info": {
      "name": "python"
    }
  },
  "cells": [
    {
      "cell_type": "markdown",
      "source": [
        "**Time serires forecasting fundametals**\n"
      ],
      "metadata": {
        "id": "XyWMsferf1-x"
      }
    },
    {
      "cell_type": "markdown",
      "source": [
        "Importing time serires with pandas\n"
      ],
      "metadata": {
        "id": "fjK-i1Zkg8Ls"
      }
    },
    {
      "cell_type": "code",
      "source": [
        "import pandas as pd \n",
        "df=pd.read_csv(\"/content/VN 30 Historical Data.csv\",parse_dates=[\"Date\"],index_col=[\"Date\"])\n",
        "df.head()"
      ],
      "metadata": {
        "colab": {
          "base_uri": "https://localhost:8080/",
          "height": 237
        },
        "id": "ie_ybqywg_aR",
        "outputId": "f8107521-ea42-49a1-fabd-06f5ca2f0271"
      },
      "execution_count": null,
      "outputs": [
        {
          "output_type": "execute_result",
          "data": {
            "text/plain": [
              "               Price      Open      High       Low     Vol. Change %\n",
              "Date                                                                \n",
              "2022-05-06  1,373.21  1,399.54  1,399.54  1,371.00  129.91K   -2.25%\n",
              "2022-05-05  1,404.88  1,402.60  1,405.43  1,373.42  122.13K    1.10%\n",
              "2022-05-04  1,389.59  1,415.43  1,415.45  1,389.59  114.19K   -1.96%\n",
              "2022-04-29  1,417.31  1,400.88  1,417.31  1,394.17  128.04K    1.17%\n",
              "2022-04-28  1,400.88  1,400.60  1,407.82  1,392.24   91.68K   -0.08%"
            ],
            "text/html": [
              "\n",
              "  <div id=\"df-bd7eb046-4567-4e92-85a4-8044dfff3b2f\">\n",
              "    <div class=\"colab-df-container\">\n",
              "      <div>\n",
              "<style scoped>\n",
              "    .dataframe tbody tr th:only-of-type {\n",
              "        vertical-align: middle;\n",
              "    }\n",
              "\n",
              "    .dataframe tbody tr th {\n",
              "        vertical-align: top;\n",
              "    }\n",
              "\n",
              "    .dataframe thead th {\n",
              "        text-align: right;\n",
              "    }\n",
              "</style>\n",
              "<table border=\"1\" class=\"dataframe\">\n",
              "  <thead>\n",
              "    <tr style=\"text-align: right;\">\n",
              "      <th></th>\n",
              "      <th>Price</th>\n",
              "      <th>Open</th>\n",
              "      <th>High</th>\n",
              "      <th>Low</th>\n",
              "      <th>Vol.</th>\n",
              "      <th>Change %</th>\n",
              "    </tr>\n",
              "    <tr>\n",
              "      <th>Date</th>\n",
              "      <th></th>\n",
              "      <th></th>\n",
              "      <th></th>\n",
              "      <th></th>\n",
              "      <th></th>\n",
              "      <th></th>\n",
              "    </tr>\n",
              "  </thead>\n",
              "  <tbody>\n",
              "    <tr>\n",
              "      <th>2022-05-06</th>\n",
              "      <td>1,373.21</td>\n",
              "      <td>1,399.54</td>\n",
              "      <td>1,399.54</td>\n",
              "      <td>1,371.00</td>\n",
              "      <td>129.91K</td>\n",
              "      <td>-2.25%</td>\n",
              "    </tr>\n",
              "    <tr>\n",
              "      <th>2022-05-05</th>\n",
              "      <td>1,404.88</td>\n",
              "      <td>1,402.60</td>\n",
              "      <td>1,405.43</td>\n",
              "      <td>1,373.42</td>\n",
              "      <td>122.13K</td>\n",
              "      <td>1.10%</td>\n",
              "    </tr>\n",
              "    <tr>\n",
              "      <th>2022-05-04</th>\n",
              "      <td>1,389.59</td>\n",
              "      <td>1,415.43</td>\n",
              "      <td>1,415.45</td>\n",
              "      <td>1,389.59</td>\n",
              "      <td>114.19K</td>\n",
              "      <td>-1.96%</td>\n",
              "    </tr>\n",
              "    <tr>\n",
              "      <th>2022-04-29</th>\n",
              "      <td>1,417.31</td>\n",
              "      <td>1,400.88</td>\n",
              "      <td>1,417.31</td>\n",
              "      <td>1,394.17</td>\n",
              "      <td>128.04K</td>\n",
              "      <td>1.17%</td>\n",
              "    </tr>\n",
              "    <tr>\n",
              "      <th>2022-04-28</th>\n",
              "      <td>1,400.88</td>\n",
              "      <td>1,400.60</td>\n",
              "      <td>1,407.82</td>\n",
              "      <td>1,392.24</td>\n",
              "      <td>91.68K</td>\n",
              "      <td>-0.08%</td>\n",
              "    </tr>\n",
              "  </tbody>\n",
              "</table>\n",
              "</div>\n",
              "      <button class=\"colab-df-convert\" onclick=\"convertToInteractive('df-bd7eb046-4567-4e92-85a4-8044dfff3b2f')\"\n",
              "              title=\"Convert this dataframe to an interactive table.\"\n",
              "              style=\"display:none;\">\n",
              "        \n",
              "  <svg xmlns=\"http://www.w3.org/2000/svg\" height=\"24px\"viewBox=\"0 0 24 24\"\n",
              "       width=\"24px\">\n",
              "    <path d=\"M0 0h24v24H0V0z\" fill=\"none\"/>\n",
              "    <path d=\"M18.56 5.44l.94 2.06.94-2.06 2.06-.94-2.06-.94-.94-2.06-.94 2.06-2.06.94zm-11 1L8.5 8.5l.94-2.06 2.06-.94-2.06-.94L8.5 2.5l-.94 2.06-2.06.94zm10 10l.94 2.06.94-2.06 2.06-.94-2.06-.94-.94-2.06-.94 2.06-2.06.94z\"/><path d=\"M17.41 7.96l-1.37-1.37c-.4-.4-.92-.59-1.43-.59-.52 0-1.04.2-1.43.59L10.3 9.45l-7.72 7.72c-.78.78-.78 2.05 0 2.83L4 21.41c.39.39.9.59 1.41.59.51 0 1.02-.2 1.41-.59l7.78-7.78 2.81-2.81c.8-.78.8-2.07 0-2.86zM5.41 20L4 18.59l7.72-7.72 1.47 1.35L5.41 20z\"/>\n",
              "  </svg>\n",
              "      </button>\n",
              "      \n",
              "  <style>\n",
              "    .colab-df-container {\n",
              "      display:flex;\n",
              "      flex-wrap:wrap;\n",
              "      gap: 12px;\n",
              "    }\n",
              "\n",
              "    .colab-df-convert {\n",
              "      background-color: #E8F0FE;\n",
              "      border: none;\n",
              "      border-radius: 50%;\n",
              "      cursor: pointer;\n",
              "      display: none;\n",
              "      fill: #1967D2;\n",
              "      height: 32px;\n",
              "      padding: 0 0 0 0;\n",
              "      width: 32px;\n",
              "    }\n",
              "\n",
              "    .colab-df-convert:hover {\n",
              "      background-color: #E2EBFA;\n",
              "      box-shadow: 0px 1px 2px rgba(60, 64, 67, 0.3), 0px 1px 3px 1px rgba(60, 64, 67, 0.15);\n",
              "      fill: #174EA6;\n",
              "    }\n",
              "\n",
              "    [theme=dark] .colab-df-convert {\n",
              "      background-color: #3B4455;\n",
              "      fill: #D2E3FC;\n",
              "    }\n",
              "\n",
              "    [theme=dark] .colab-df-convert:hover {\n",
              "      background-color: #434B5C;\n",
              "      box-shadow: 0px 1px 3px 1px rgba(0, 0, 0, 0.15);\n",
              "      filter: drop-shadow(0px 1px 2px rgba(0, 0, 0, 0.3));\n",
              "      fill: #FFFFFF;\n",
              "    }\n",
              "  </style>\n",
              "\n",
              "      <script>\n",
              "        const buttonEl =\n",
              "          document.querySelector('#df-bd7eb046-4567-4e92-85a4-8044dfff3b2f button.colab-df-convert');\n",
              "        buttonEl.style.display =\n",
              "          google.colab.kernel.accessAllowed ? 'block' : 'none';\n",
              "\n",
              "        async function convertToInteractive(key) {\n",
              "          const element = document.querySelector('#df-bd7eb046-4567-4e92-85a4-8044dfff3b2f');\n",
              "          const dataTable =\n",
              "            await google.colab.kernel.invokeFunction('convertToInteractive',\n",
              "                                                     [key], {});\n",
              "          if (!dataTable) return;\n",
              "\n",
              "          const docLinkHtml = 'Like what you see? Visit the ' +\n",
              "            '<a target=\"_blank\" href=https://colab.research.google.com/notebooks/data_table.ipynb>data table notebook</a>'\n",
              "            + ' to learn more about interactive tables.';\n",
              "          element.innerHTML = '';\n",
              "          dataTable['output_type'] = 'display_data';\n",
              "          await google.colab.output.renderOutput(dataTable, element);\n",
              "          const docLink = document.createElement('div');\n",
              "          docLink.innerHTML = docLinkHtml;\n",
              "          element.appendChild(docLink);\n",
              "        }\n",
              "      </script>\n",
              "    </div>\n",
              "  </div>\n",
              "  "
            ]
          },
          "metadata": {},
          "execution_count": 1
        }
      ]
    },
    {
      "cell_type": "code",
      "source": [
        "len(df)\n",
        "#Reverse dataframe\n",
        "df=df[::-1]"
      ],
      "metadata": {
        "id": "L_fHAGXUh_lg"
      },
      "execution_count": null,
      "outputs": []
    },
    {
      "cell_type": "code",
      "source": [
        "df[\"Price\"]=df[\"Price\"].str.replace(',','')\n",
        "df['Price'] = pd.to_numeric(df['Price'],errors = 'coerce')\n",
        "df.head()"
      ],
      "metadata": {
        "colab": {
          "base_uri": "https://localhost:8080/",
          "height": 237
        },
        "id": "HXFB_Y2OjPgO",
        "outputId": "7b397e5e-385a-438f-bf28-886e78b21606"
      },
      "execution_count": null,
      "outputs": [
        {
          "output_type": "execute_result",
          "data": {
            "text/plain": [
              "             Price    Open    High     Low    Vol. Change %\n",
              "Date                                                       \n",
              "2013-01-02  490.82  486.41  492.29  485.37  22.64K    1.12%\n",
              "2013-01-03  491.34  492.55  492.55  483.84  32.69K    0.11%\n",
              "2013-01-04  498.31  489.71  499.85  487.95  20.15K    1.42%\n",
              "2013-01-07  509.18  500.58  509.61  498.54  26.03K    2.18%\n",
              "2013-01-08  525.36  512.41  525.36  511.64  32.89K    3.18%"
            ],
            "text/html": [
              "\n",
              "  <div id=\"df-61cd06c6-87c9-4110-97a7-051f99220080\">\n",
              "    <div class=\"colab-df-container\">\n",
              "      <div>\n",
              "<style scoped>\n",
              "    .dataframe tbody tr th:only-of-type {\n",
              "        vertical-align: middle;\n",
              "    }\n",
              "\n",
              "    .dataframe tbody tr th {\n",
              "        vertical-align: top;\n",
              "    }\n",
              "\n",
              "    .dataframe thead th {\n",
              "        text-align: right;\n",
              "    }\n",
              "</style>\n",
              "<table border=\"1\" class=\"dataframe\">\n",
              "  <thead>\n",
              "    <tr style=\"text-align: right;\">\n",
              "      <th></th>\n",
              "      <th>Price</th>\n",
              "      <th>Open</th>\n",
              "      <th>High</th>\n",
              "      <th>Low</th>\n",
              "      <th>Vol.</th>\n",
              "      <th>Change %</th>\n",
              "    </tr>\n",
              "    <tr>\n",
              "      <th>Date</th>\n",
              "      <th></th>\n",
              "      <th></th>\n",
              "      <th></th>\n",
              "      <th></th>\n",
              "      <th></th>\n",
              "      <th></th>\n",
              "    </tr>\n",
              "  </thead>\n",
              "  <tbody>\n",
              "    <tr>\n",
              "      <th>2013-01-02</th>\n",
              "      <td>490.82</td>\n",
              "      <td>486.41</td>\n",
              "      <td>492.29</td>\n",
              "      <td>485.37</td>\n",
              "      <td>22.64K</td>\n",
              "      <td>1.12%</td>\n",
              "    </tr>\n",
              "    <tr>\n",
              "      <th>2013-01-03</th>\n",
              "      <td>491.34</td>\n",
              "      <td>492.55</td>\n",
              "      <td>492.55</td>\n",
              "      <td>483.84</td>\n",
              "      <td>32.69K</td>\n",
              "      <td>0.11%</td>\n",
              "    </tr>\n",
              "    <tr>\n",
              "      <th>2013-01-04</th>\n",
              "      <td>498.31</td>\n",
              "      <td>489.71</td>\n",
              "      <td>499.85</td>\n",
              "      <td>487.95</td>\n",
              "      <td>20.15K</td>\n",
              "      <td>1.42%</td>\n",
              "    </tr>\n",
              "    <tr>\n",
              "      <th>2013-01-07</th>\n",
              "      <td>509.18</td>\n",
              "      <td>500.58</td>\n",
              "      <td>509.61</td>\n",
              "      <td>498.54</td>\n",
              "      <td>26.03K</td>\n",
              "      <td>2.18%</td>\n",
              "    </tr>\n",
              "    <tr>\n",
              "      <th>2013-01-08</th>\n",
              "      <td>525.36</td>\n",
              "      <td>512.41</td>\n",
              "      <td>525.36</td>\n",
              "      <td>511.64</td>\n",
              "      <td>32.89K</td>\n",
              "      <td>3.18%</td>\n",
              "    </tr>\n",
              "  </tbody>\n",
              "</table>\n",
              "</div>\n",
              "      <button class=\"colab-df-convert\" onclick=\"convertToInteractive('df-61cd06c6-87c9-4110-97a7-051f99220080')\"\n",
              "              title=\"Convert this dataframe to an interactive table.\"\n",
              "              style=\"display:none;\">\n",
              "        \n",
              "  <svg xmlns=\"http://www.w3.org/2000/svg\" height=\"24px\"viewBox=\"0 0 24 24\"\n",
              "       width=\"24px\">\n",
              "    <path d=\"M0 0h24v24H0V0z\" fill=\"none\"/>\n",
              "    <path d=\"M18.56 5.44l.94 2.06.94-2.06 2.06-.94-2.06-.94-.94-2.06-.94 2.06-2.06.94zm-11 1L8.5 8.5l.94-2.06 2.06-.94-2.06-.94L8.5 2.5l-.94 2.06-2.06.94zm10 10l.94 2.06.94-2.06 2.06-.94-2.06-.94-.94-2.06-.94 2.06-2.06.94z\"/><path d=\"M17.41 7.96l-1.37-1.37c-.4-.4-.92-.59-1.43-.59-.52 0-1.04.2-1.43.59L10.3 9.45l-7.72 7.72c-.78.78-.78 2.05 0 2.83L4 21.41c.39.39.9.59 1.41.59.51 0 1.02-.2 1.41-.59l7.78-7.78 2.81-2.81c.8-.78.8-2.07 0-2.86zM5.41 20L4 18.59l7.72-7.72 1.47 1.35L5.41 20z\"/>\n",
              "  </svg>\n",
              "      </button>\n",
              "      \n",
              "  <style>\n",
              "    .colab-df-container {\n",
              "      display:flex;\n",
              "      flex-wrap:wrap;\n",
              "      gap: 12px;\n",
              "    }\n",
              "\n",
              "    .colab-df-convert {\n",
              "      background-color: #E8F0FE;\n",
              "      border: none;\n",
              "      border-radius: 50%;\n",
              "      cursor: pointer;\n",
              "      display: none;\n",
              "      fill: #1967D2;\n",
              "      height: 32px;\n",
              "      padding: 0 0 0 0;\n",
              "      width: 32px;\n",
              "    }\n",
              "\n",
              "    .colab-df-convert:hover {\n",
              "      background-color: #E2EBFA;\n",
              "      box-shadow: 0px 1px 2px rgba(60, 64, 67, 0.3), 0px 1px 3px 1px rgba(60, 64, 67, 0.15);\n",
              "      fill: #174EA6;\n",
              "    }\n",
              "\n",
              "    [theme=dark] .colab-df-convert {\n",
              "      background-color: #3B4455;\n",
              "      fill: #D2E3FC;\n",
              "    }\n",
              "\n",
              "    [theme=dark] .colab-df-convert:hover {\n",
              "      background-color: #434B5C;\n",
              "      box-shadow: 0px 1px 3px 1px rgba(0, 0, 0, 0.15);\n",
              "      filter: drop-shadow(0px 1px 2px rgba(0, 0, 0, 0.3));\n",
              "      fill: #FFFFFF;\n",
              "    }\n",
              "  </style>\n",
              "\n",
              "      <script>\n",
              "        const buttonEl =\n",
              "          document.querySelector('#df-61cd06c6-87c9-4110-97a7-051f99220080 button.colab-df-convert');\n",
              "        buttonEl.style.display =\n",
              "          google.colab.kernel.accessAllowed ? 'block' : 'none';\n",
              "\n",
              "        async function convertToInteractive(key) {\n",
              "          const element = document.querySelector('#df-61cd06c6-87c9-4110-97a7-051f99220080');\n",
              "          const dataTable =\n",
              "            await google.colab.kernel.invokeFunction('convertToInteractive',\n",
              "                                                     [key], {});\n",
              "          if (!dataTable) return;\n",
              "\n",
              "          const docLinkHtml = 'Like what you see? Visit the ' +\n",
              "            '<a target=\"_blank\" href=https://colab.research.google.com/notebooks/data_table.ipynb>data table notebook</a>'\n",
              "            + ' to learn more about interactive tables.';\n",
              "          element.innerHTML = '';\n",
              "          dataTable['output_type'] = 'display_data';\n",
              "          await google.colab.output.renderOutput(dataTable, element);\n",
              "          const docLink = document.createElement('div');\n",
              "          docLink.innerHTML = docLinkHtml;\n",
              "          element.appendChild(docLink);\n",
              "        }\n",
              "      </script>\n",
              "    </div>\n",
              "  </div>\n",
              "  "
            ]
          },
          "metadata": {},
          "execution_count": 3
        }
      ]
    },
    {
      "cell_type": "code",
      "source": [
        "df.info()"
      ],
      "metadata": {
        "colab": {
          "base_uri": "https://localhost:8080/"
        },
        "id": "x_S1n_7-l-_L",
        "outputId": "d4c6d26d-319b-4598-e0e6-225f25f3c5f5"
      },
      "execution_count": null,
      "outputs": [
        {
          "output_type": "stream",
          "name": "stdout",
          "text": [
            "<class 'pandas.core.frame.DataFrame'>\n",
            "DatetimeIndex: 2328 entries, 2013-01-02 to 2022-05-06\n",
            "Data columns (total 6 columns):\n",
            " #   Column    Non-Null Count  Dtype  \n",
            "---  ------    --------------  -----  \n",
            " 0   Price     2328 non-null   float64\n",
            " 1   Open      2328 non-null   object \n",
            " 2   High      2328 non-null   object \n",
            " 3   Low       2328 non-null   object \n",
            " 4   Vol.      2328 non-null   object \n",
            " 5   Change %  2328 non-null   object \n",
            "dtypes: float64(1), object(5)\n",
            "memory usage: 127.3+ KB\n"
          ]
        }
      ]
    },
    {
      "cell_type": "code",
      "source": [
        "VN30_price=pd.DataFrame(df[\"Price\"])\n"
      ],
      "metadata": {
        "id": "M4qu74vVmIYg"
      },
      "execution_count": null,
      "outputs": []
    },
    {
      "cell_type": "code",
      "source": [
        "VN30_price.head()"
      ],
      "metadata": {
        "colab": {
          "base_uri": "https://localhost:8080/",
          "height": 237
        },
        "id": "vJb8hjTamxJK",
        "outputId": "32f0fd87-cf60-416c-a16b-01eeb533db09"
      },
      "execution_count": null,
      "outputs": [
        {
          "output_type": "execute_result",
          "data": {
            "text/plain": [
              "             Price\n",
              "Date              \n",
              "2013-01-02  490.82\n",
              "2013-01-03  491.34\n",
              "2013-01-04  498.31\n",
              "2013-01-07  509.18\n",
              "2013-01-08  525.36"
            ],
            "text/html": [
              "\n",
              "  <div id=\"df-1ab33bb1-cdcb-4c90-8f5a-32d67c3fb1f8\">\n",
              "    <div class=\"colab-df-container\">\n",
              "      <div>\n",
              "<style scoped>\n",
              "    .dataframe tbody tr th:only-of-type {\n",
              "        vertical-align: middle;\n",
              "    }\n",
              "\n",
              "    .dataframe tbody tr th {\n",
              "        vertical-align: top;\n",
              "    }\n",
              "\n",
              "    .dataframe thead th {\n",
              "        text-align: right;\n",
              "    }\n",
              "</style>\n",
              "<table border=\"1\" class=\"dataframe\">\n",
              "  <thead>\n",
              "    <tr style=\"text-align: right;\">\n",
              "      <th></th>\n",
              "      <th>Price</th>\n",
              "    </tr>\n",
              "    <tr>\n",
              "      <th>Date</th>\n",
              "      <th></th>\n",
              "    </tr>\n",
              "  </thead>\n",
              "  <tbody>\n",
              "    <tr>\n",
              "      <th>2013-01-02</th>\n",
              "      <td>490.82</td>\n",
              "    </tr>\n",
              "    <tr>\n",
              "      <th>2013-01-03</th>\n",
              "      <td>491.34</td>\n",
              "    </tr>\n",
              "    <tr>\n",
              "      <th>2013-01-04</th>\n",
              "      <td>498.31</td>\n",
              "    </tr>\n",
              "    <tr>\n",
              "      <th>2013-01-07</th>\n",
              "      <td>509.18</td>\n",
              "    </tr>\n",
              "    <tr>\n",
              "      <th>2013-01-08</th>\n",
              "      <td>525.36</td>\n",
              "    </tr>\n",
              "  </tbody>\n",
              "</table>\n",
              "</div>\n",
              "      <button class=\"colab-df-convert\" onclick=\"convertToInteractive('df-1ab33bb1-cdcb-4c90-8f5a-32d67c3fb1f8')\"\n",
              "              title=\"Convert this dataframe to an interactive table.\"\n",
              "              style=\"display:none;\">\n",
              "        \n",
              "  <svg xmlns=\"http://www.w3.org/2000/svg\" height=\"24px\"viewBox=\"0 0 24 24\"\n",
              "       width=\"24px\">\n",
              "    <path d=\"M0 0h24v24H0V0z\" fill=\"none\"/>\n",
              "    <path d=\"M18.56 5.44l.94 2.06.94-2.06 2.06-.94-2.06-.94-.94-2.06-.94 2.06-2.06.94zm-11 1L8.5 8.5l.94-2.06 2.06-.94-2.06-.94L8.5 2.5l-.94 2.06-2.06.94zm10 10l.94 2.06.94-2.06 2.06-.94-2.06-.94-.94-2.06-.94 2.06-2.06.94z\"/><path d=\"M17.41 7.96l-1.37-1.37c-.4-.4-.92-.59-1.43-.59-.52 0-1.04.2-1.43.59L10.3 9.45l-7.72 7.72c-.78.78-.78 2.05 0 2.83L4 21.41c.39.39.9.59 1.41.59.51 0 1.02-.2 1.41-.59l7.78-7.78 2.81-2.81c.8-.78.8-2.07 0-2.86zM5.41 20L4 18.59l7.72-7.72 1.47 1.35L5.41 20z\"/>\n",
              "  </svg>\n",
              "      </button>\n",
              "      \n",
              "  <style>\n",
              "    .colab-df-container {\n",
              "      display:flex;\n",
              "      flex-wrap:wrap;\n",
              "      gap: 12px;\n",
              "    }\n",
              "\n",
              "    .colab-df-convert {\n",
              "      background-color: #E8F0FE;\n",
              "      border: none;\n",
              "      border-radius: 50%;\n",
              "      cursor: pointer;\n",
              "      display: none;\n",
              "      fill: #1967D2;\n",
              "      height: 32px;\n",
              "      padding: 0 0 0 0;\n",
              "      width: 32px;\n",
              "    }\n",
              "\n",
              "    .colab-df-convert:hover {\n",
              "      background-color: #E2EBFA;\n",
              "      box-shadow: 0px 1px 2px rgba(60, 64, 67, 0.3), 0px 1px 3px 1px rgba(60, 64, 67, 0.15);\n",
              "      fill: #174EA6;\n",
              "    }\n",
              "\n",
              "    [theme=dark] .colab-df-convert {\n",
              "      background-color: #3B4455;\n",
              "      fill: #D2E3FC;\n",
              "    }\n",
              "\n",
              "    [theme=dark] .colab-df-convert:hover {\n",
              "      background-color: #434B5C;\n",
              "      box-shadow: 0px 1px 3px 1px rgba(0, 0, 0, 0.15);\n",
              "      filter: drop-shadow(0px 1px 2px rgba(0, 0, 0, 0.3));\n",
              "      fill: #FFFFFF;\n",
              "    }\n",
              "  </style>\n",
              "\n",
              "      <script>\n",
              "        const buttonEl =\n",
              "          document.querySelector('#df-1ab33bb1-cdcb-4c90-8f5a-32d67c3fb1f8 button.colab-df-convert');\n",
              "        buttonEl.style.display =\n",
              "          google.colab.kernel.accessAllowed ? 'block' : 'none';\n",
              "\n",
              "        async function convertToInteractive(key) {\n",
              "          const element = document.querySelector('#df-1ab33bb1-cdcb-4c90-8f5a-32d67c3fb1f8');\n",
              "          const dataTable =\n",
              "            await google.colab.kernel.invokeFunction('convertToInteractive',\n",
              "                                                     [key], {});\n",
              "          if (!dataTable) return;\n",
              "\n",
              "          const docLinkHtml = 'Like what you see? Visit the ' +\n",
              "            '<a target=\"_blank\" href=https://colab.research.google.com/notebooks/data_table.ipynb>data table notebook</a>'\n",
              "            + ' to learn more about interactive tables.';\n",
              "          element.innerHTML = '';\n",
              "          dataTable['output_type'] = 'display_data';\n",
              "          await google.colab.output.renderOutput(dataTable, element);\n",
              "          const docLink = document.createElement('div');\n",
              "          docLink.innerHTML = docLinkHtml;\n",
              "          element.appendChild(docLink);\n",
              "        }\n",
              "      </script>\n",
              "    </div>\n",
              "  </div>\n",
              "  "
            ]
          },
          "metadata": {},
          "execution_count": 6
        }
      ]
    },
    {
      "cell_type": "code",
      "source": [
        "import matplotlib.pyplot as plt\n",
        "VN30_price.plot(figsize=(10,7))\n",
        "plt.ylabel(\"VN30 Price\")\n",
        "plt.title(\"Price of VN30 from 2 Jan 2013 to 6 May 2022\")"
      ],
      "metadata": {
        "colab": {
          "base_uri": "https://localhost:8080/",
          "height": 451
        },
        "id": "K_k-BKhVpQNY",
        "outputId": "248ee84a-954e-4210-f5a3-d4893acbd59e"
      },
      "execution_count": null,
      "outputs": [
        {
          "output_type": "execute_result",
          "data": {
            "text/plain": [
              "Text(0.5, 1.0, 'Price of VN30 from 2 Jan 2013 to 6 May 2022')"
            ]
          },
          "metadata": {},
          "execution_count": 7
        },
        {
          "output_type": "display_data",
          "data": {
            "text/plain": [
              "<Figure size 720x504 with 1 Axes>"
            ],
            "image/png": "[encoded data removed]"
          },
          "metadata": {
            "needs_background": "light"
          }
        }
      ]
    },
    {
      "cell_type": "markdown",
      "source": [
        "#Create train and test sets\n"
      ],
      "metadata": {
        "id": "KhXiNJ6SqmYI"
      }
    },
    {
      "cell_type": "code",
      "source": [
        "#VN30 date array\n",
        "timesteps=VN30_price.index.to_numpy()\n",
        "prices=VN30_price[\"Price\"].to_numpy()\n",
        "from sklearn.model_selection import train_test_split \n",
        "#Train 80%, Test 20%\n",
        "X_train, X_test, y_train, y_test = train_test_split(timesteps, # dates\n",
        "                                                    prices, # prices\n",
        "                                                    test_size=0.2,\n",
        "                                                    shuffle=False,\n",
        "                                                    random_state=42)\n",
        "X_train.shape, X_test.shape, y_train.shape, y_test.shape "
      ],
      "metadata": {
        "id": "3dB-vmALqpQw",
        "colab": {
          "base_uri": "https://localhost:8080/"
        },
        "outputId": "bc7ad622-001f-43f2-edfe-b3a3a18be151"
      },
      "execution_count": null,
      "outputs": [
        {
          "output_type": "execute_result",
          "data": {
            "text/plain": [
              "((1862,), (466,), (1862,), (466,))"
            ]
          },
          "metadata": {},
          "execution_count": 8
        }
      ]
    },
    {
      "cell_type": "code",
      "source": [
        "#Create a function to plot time series data\n",
        "def plot_time_series(timesteps,values,format=\".\",start=0,end=None,label=None):\n",
        "  plt.plot(timesteps[start:end],values[start:end],format,label=label)\n",
        "  plt.xlabel(\"Time\")\n",
        "  plt.ylabel(\"VN30 Price\")\n",
        "  if label:\n",
        "    plt.legend(fontsize=14)\n",
        "  plt.grid(True)"
      ],
      "metadata": {
        "id": "vYxTr59BrwAG"
      },
      "execution_count": null,
      "outputs": []
    },
    {
      "cell_type": "code",
      "source": [
        "plt.figure(figsize=(10, 7))\n",
        "plot_time_series(timesteps=X_train, values=y_train, label=\"Train data\")\n",
        "plot_time_series(timesteps=X_test, values=y_test, label=\"Test data\")"
      ],
      "metadata": {
        "colab": {
          "base_uri": "https://localhost:8080/",
          "height": 442
        },
        "id": "ny2uxxYZsSf2",
        "outputId": "d0da4691-b081-46c7-f04d-1194d6bc9dbb"
      },
      "execution_count": null,
      "outputs": [
        {
          "output_type": "display_data",
          "data": {
            "text/plain": [
              "<Figure size 720x504 with 1 Axes>"
            ],
            "image/png": "[encoded data removed]"
          },
          "metadata": {
            "needs_background": "light"
          }
        }
      ]
    },
    {
      "cell_type": "markdown",
      "source": [
        "**Horizon** = Number of timesteps to predict into future\n",
        "\n",
        "**Window** = Number of timesteps from past used to predict Horizon\n",
        "\n",
        "Muốn dự đoán Chỉ số VN30 ngày mai ( 1 ngày trong tương lai) thì sử dụng Chỉ số VN30 của 10 ngày phía trước. Horizon=1 và Window=10"
      ],
      "metadata": {
        "id": "G0KlyhUNtghv"
      }
    },
    {
      "cell_type": "markdown",
      "source": [
        "# Model 1: Navie Forecast (baseline)\n",
        "\n",
        "Một trong những mô hình cơ bản trong dự đoán time series, là naive model, không yêu cầu quá trình huấn luyện\n",
        "Công thức: \n",
        "$$\\hat{y}_{t} = y_{t-1}$$ \n",
        "\n",
        "\n",
        "> Giá trị dự đoán tại timestep `t` (y-hat) bằng giá trị tại timestep `t-1` (timestep phía trước đó).\n",
        "Tuy đơn giản nhưng Naive Model có độ chính xác cao trong các Open System ( Như stock market hay crypto market)"
      ],
      "metadata": {
        "id": "NnlLHTP-ub9V"
      }
    },
    {
      "cell_type": "code",
      "source": [
        "# Create a naïve forecast\n",
        "naive_forecast = y_test[:-1] # Naïve forecast equals every value excluding the last value\n",
        "naive_forecast[:10], naive_forecast[-10:] # View frist 10 and last 10 "
      ],
      "metadata": {
        "colab": {
          "base_uri": "https://localhost:8080/"
        },
        "id": "FZpVkd60waPN",
        "outputId": "2af075b1-be80-4dc7-9f92-dba7e72853c6"
      },
      "execution_count": null,
      "outputs": [
        {
          "output_type": "execute_result",
          "data": {
            "text/plain": [
              "(array([796.51, 795.53, 774.81, 770.53, 786.82, 785.59, 789.87, 803.46,\n",
              "        805.68, 805.06]),\n",
              " array([1435.5 , 1426.87, 1444.32, 1366.39, 1396.9 , 1402.03, 1400.88,\n",
              "        1417.31, 1389.59, 1404.88]))"
            ]
          },
          "metadata": {},
          "execution_count": 11
        }
      ]
    },
    {
      "cell_type": "code",
      "source": [
        "# Plot naive forecast\n",
        "plt.figure(figsize=(10, 7))\n",
        "plot_time_series(timesteps=X_train, values=y_train, label=\"Train data\")\n",
        "plot_time_series(timesteps=X_test, values=y_test, label=\"Test data\")\n",
        "plot_time_series(timesteps=X_test[1:], values=naive_forecast, format=\"-\", label=\"Naive forecast\");"
      ],
      "metadata": {
        "colab": {
          "base_uri": "https://localhost:8080/",
          "height": 442
        },
        "id": "faT1-zjbutde",
        "outputId": "197a8cf2-31ed-4593-8046-11ac1409a4aa"
      },
      "execution_count": null,
      "outputs": [
        {
          "output_type": "display_data",
          "data": {
            "text/plain": [
              "<Figure size 720x504 with 1 Axes>"
            ],
            "image/png": "[encoded data removed]"
          },
          "metadata": {
            "needs_background": "light"
          }
        }
      ]
    },
    {
      "cell_type": "code",
      "source": [
        "#Focus on test dataset\n",
        "plt.figure(figsize=(10,7))\n",
        "offset=200 #offset the values y 200 timesteps\n",
        "plot_time_series(timesteps=X_test,values=y_test,start=offset,label=\"Test data\")\n",
        "plot_time_series(timesteps=X_test[1:],values=naive_forecast,format=\"-\",start=offset,label=\"Naive forest\")"
      ],
      "metadata": {
        "colab": {
          "base_uri": "https://localhost:8080/",
          "height": 442
        },
        "id": "sv-_21iEw0s9",
        "outputId": "81cc410b-2b1e-4b4d-ecb2-583ac8539c79"
      },
      "execution_count": null,
      "outputs": [
        {
          "output_type": "display_data",
          "data": {
            "text/plain": [
              "<Figure size 720x504 with 1 Axes>"
            ],
            "image/png": "[encoded data removed]"
          },
          "metadata": {
            "needs_background": "light"
          }
        }
      ]
    },
    {
      "cell_type": "markdown",
      "source": [
        "Vì sử dụng giá trị timestep phía trước để dự đoán giá trị tiếp theo nên Naive Forecast có chút lagging so với test data"
      ],
      "metadata": {
        "id": "jV_W_3eKx0d8"
      }
    },
    {
      "cell_type": "markdown",
      "source": [
        "# Evaluating a time series model\n",
        "Time series forecasting thường là dự đoán các số.\n",
        "\n",
        "Nên để đánh giá thì ta so sánh sự khác giữa giá trị dự đoán (y_pred) với giá trị thực ( y_true).\n",
        "\n",
        "Ta kỳ vọng sự khác nhau là thấp nhất. \n",
        "\n",
        "Ở đây ta sẽ sử dụng một số metrics để đánh giá\n",
        "\n",
        "### Scale-dependent errors\n",
        "\n",
        "These are metrics which can be used to compare time series values and forecasts that are on the same scale.\n",
        "\n",
        "Ví dụ như chỉ số VN30 thực tế và dự đoán được\n",
        "\n",
        "| Metric | Details | Code |\n",
        "| ----- | ----- | ----- |\n",
        "| **MAE** (mean absolute error) | Easy to interpret (a forecast is X amount different from actual amount). Forecast methods which minimises the MAE will lead to forecasts of the median. | [`tf.keras.metrics.mean_absolute_error()`](https://www.tensorflow.org/api_docs/python/tf/keras/metrics/MeanAbsoluteError) |\n",
        "| **RMSE** (root mean square error) | Forecasts which minimise the RMSE lead to forecasts of the mean. | `tf.sqrt(`[`tf.keras.metrics.mean_square_error()`](https://www.tensorflow.org/api_docs/python/tf/keras/metrics/RootMeanSquaredError)`)`|\n",
        "\n",
        "### Percentage errors\n",
        "\n",
        "Percentage errors do not have units, this means they can be used to compare forecasts across different datasets.\n",
        "\n",
        "| **Metric** | **Details** | **Code** |\n",
        "| ----- | ----- | ----- |\n",
        "| **MAPE** (mean absolute percentage error) | Most commonly used percentage error. May explode (not work) if `y=0`. | [`tf.keras.metrics.mean_absolute_percentage_error()`](https://www.tensorflow.org/api_docs/python/tf/keras/losses/MAPE) | \n",
        "\n",
        "\n",
        "**R2(coefficient of determination)** regression score function.\n",
        "\n",
        "Best possible score is 1.0 and it can be negative (because the model can be arbitrarily worse). In the general case when the true y is non-constant, a constant model that always predicts the average y disregarding the input features would get a  score of 0.0."
      ],
      "metadata": {
        "id": "If12hUNqyFRd"
      }
    },
    {
      "cell_type": "code",
      "source": [
        "import tensorflow as tf\n"
      ],
      "metadata": {
        "id": "FQmvnGS80DbU"
      },
      "execution_count": null,
      "outputs": []
    },
    {
      "cell_type": "code",
      "source": [
        "def evaluate_preds(y_true, y_pred):\n",
        "  y_true=tf.cast(y_true,dtype=tf.float32)\n",
        "  y_pred=tf.cast(y_pred,dtype=tf.float32)\n",
        "\n",
        "  #Calculate various metrics\n",
        "  mae=tf.keras.metrics.mean_absolute_error(y_true,y_pred)\n",
        "  mse=tf.keras.metrics.mean_squared_error(y_true,y_pred) #emphasis outliers\n",
        "  rmse=tf.sqrt(mse)\n",
        "  mape=tf.keras.metrics.mean_absolute_percentage_error(y_true,y_pred)\n",
        "  from sklearn.metrics import r2_score\n",
        "  r2score=r2_score(y_true, y_pred)\n",
        "\n",
        "  return {\"mae\" : mae.numpy(), \n",
        "          \"rmse\" : rmse.numpy(),\n",
        "          \"mape\" : mape.numpy(),\n",
        "          \"r2\" : r2score\n",
        "          }"
      ],
      "metadata": {
        "id": "wSR4ayLDzjOl"
      },
      "execution_count": null,
      "outputs": []
    },
    {
      "cell_type": "code",
      "source": [
        "naive_results=evaluate_preds(y_true=y_test[1:],y_pred=naive_forecast)\n",
        "naive_results"
      ],
      "metadata": {
        "colab": {
          "base_uri": "https://localhost:8080/"
        },
        "id": "2ZpFwkRy1HC6",
        "outputId": "38ccb693-dd35-4a1b-ac6b-3f448bed4c79"
      },
      "execution_count": null,
      "outputs": [
        {
          "output_type": "execute_result",
          "data": {
            "text/plain": [
              "{'mae': 11.795142,\n",
              " 'mape': 0.94764006,\n",
              " 'r2': 0.9961809729783315,\n",
              " 'rmse': 16.841702}"
            ]
          },
          "metadata": {},
          "execution_count": 16
        }
      ]
    },
    {
      "cell_type": "markdown",
      "source": [
        "Độ lệch trung bình giữa chỉ số VN30 dự đoán và thực tế là 11.8\n",
        "...."
      ],
      "metadata": {
        "id": "ox5Xj2IO2s3F"
      }
    },
    {
      "cell_type": "markdown",
      "source": [
        "# **Format Data: Windowing dataset**\n",
        "Windowing is a method to turn a time series dataset into supervised learning problem ( have features, labels)\n",
        "\n",
        "In other words, we want to use windows of the past to predict the future\n",
        "\n",
        "For example for a univariate time series, windowing for 10 days (*windows=10*) to predict the nexit single value  (*horizon=1*):\n",
        "\n",
        "```\n",
        "Window for 10 days (univariate time series)\n",
        "\n",
        "[0, 1, 2, 3, 4, 5, 6, 7, 8, 9] -> [10]\n",
        "[1, 2, 3, 4, 5, 6, 7, 8, 9, 10] -> [11]\n",
        "[2, 3, 4, 5, 6, 7, 8, 9, 10, 11] -> [12]\n",
        "```\n"
      ],
      "metadata": {
        "id": "T56l05XP4rOE"
      }
    },
    {
      "cell_type": "code",
      "source": [
        "HORIZON=1 #predict 1 step at a time\n",
        "WINDOW_SIZE=10 # Use 10 values to predict the horizon"
      ],
      "metadata": {
        "id": "QscuWatp57tY"
      },
      "execution_count": null,
      "outputs": []
    },
    {
      "cell_type": "code",
      "source": [
        "\n",
        "def make_windows(x,window_size=10,horizon=1):\n",
        "  import numpy as np\n",
        "  windows=[]\n",
        "  labels=[]\n",
        "  #10 timesteps and 1 output\n",
        "  for i in range(window_size, len(x)):\n",
        "    windows.append(x[i-window_size:i, 0]) \n",
        "    labels.append(x[i, 0])\n",
        "  windows, labels = np.array(windows), np.array(labels)\n",
        "  #Turns a 1D array into a 2D array of sequential windows of window_size.\n",
        "  windows = np.reshape(windows, (windows.shape[0], windows.shape[1]))\n",
        "  return windows, labels"
      ],
      "metadata": {
        "id": "QkLdsNV37DHU"
      },
      "execution_count": null,
      "outputs": []
    },
    {
      "cell_type": "code",
      "source": [
        "prices=VN30_price.iloc[:,0:1].values\n",
        "\n",
        "full_windows, full_labels = make_windows(prices, window_size=WINDOW_SIZE, horizon=HORIZON)\n",
        "print(full_windows.shape)\n",
        "print(full_labels.shape)"
      ],
      "metadata": {
        "colab": {
          "base_uri": "https://localhost:8080/"
        },
        "id": "P1WtvWR88a8-",
        "outputId": "7eb88ab5-0fcc-4841-9a48-a5e9304f9858"
      },
      "execution_count": null,
      "outputs": [
        {
          "output_type": "stream",
          "name": "stdout",
          "text": [
            "(2318, 10)\n",
            "(2318,)\n"
          ]
        }
      ]
    },
    {
      "cell_type": "code",
      "source": [
        "# Show the first 3 windows/labels\n",
        "for i in range(3):\n",
        "  print(f\"Window: {full_windows[i]} -> Label: {full_labels[i]}\")"
      ],
      "metadata": {
        "colab": {
          "base_uri": "https://localhost:8080/"
        },
        "id": "v1DMpZ9Y-Bzb",
        "outputId": "1ae7316a-098d-47ad-fb11-92da77fa9465"
      },
      "execution_count": null,
      "outputs": [
        {
          "output_type": "stream",
          "name": "stdout",
          "text": [
            "Window: [490.82 491.34 498.31 509.18 525.36 531.52 545.8  545.72 537.42 542.73] -> Label: 546.34\n",
            "Window: [491.34 498.31 509.18 525.36 531.52 545.8  545.72 537.42 542.73 546.34] -> Label: 537.75\n",
            "Window: [498.31 509.18 525.36 531.52 545.8  545.72 537.42 542.73 546.34 537.75] -> Label: 534.97\n"
          ]
        }
      ]
    },
    {
      "cell_type": "code",
      "source": [
        "#Show the last 3 windows/labels\n",
        "for i in range(3):\n",
        "  print(f\"Window: {full_windows[i-3]} -> Label: {full_labels[i-3]}\")"
      ],
      "metadata": {
        "colab": {
          "base_uri": "https://localhost:8080/"
        },
        "id": "BlTP7SR4-PXJ",
        "outputId": "cb3b4410-2d3f-4737-d05b-1b6ce38fca80"
      },
      "execution_count": null,
      "outputs": [
        {
          "output_type": "stream",
          "name": "stdout",
          "text": [
            "Window: [1468.25 1440.61 1435.5  1426.87 1444.32 1366.39 1396.9  1402.03 1400.88\n",
            " 1417.31] -> Label: 1389.59\n",
            "Window: [1440.61 1435.5  1426.87 1444.32 1366.39 1396.9  1402.03 1400.88 1417.31\n",
            " 1389.59] -> Label: 1404.88\n",
            "Window: [1435.5  1426.87 1444.32 1366.39 1396.9  1402.03 1400.88 1417.31 1389.59\n",
            " 1404.88] -> Label: 1373.21\n"
          ]
        }
      ]
    },
    {
      "cell_type": "code",
      "source": [
        "feature_train,feature_test,label_train,label_test=train_test_split(full_windows,full_labels,test_size=0.2, random_state=42,shuffle=False)\n",
        "len(feature_train), len(feature_test), len(label_train), len(label_test)"
      ],
      "metadata": {
        "colab": {
          "base_uri": "https://localhost:8080/"
        },
        "id": "Xl1yA3lK-gc7",
        "outputId": "e6ba65d3-c3d7-4efc-f663-1d85279191f9"
      },
      "execution_count": null,
      "outputs": [
        {
          "output_type": "execute_result",
          "data": {
            "text/plain": [
              "(1854, 464, 1854, 464)"
            ]
          },
          "metadata": {},
          "execution_count": 22
        }
      ]
    },
    {
      "cell_type": "markdown",
      "source": [
        "Make a modelling checkpoint"
      ],
      "metadata": {
        "id": "SY_RLJd--5h7"
      }
    },
    {
      "cell_type": "code",
      "source": [
        "import os \n",
        "#Create a function to implement a ModelCheckpoint callback with a specific filename\n",
        "def create_model_checkpoint(model_name,save_path=\"model_experiments\"):\n",
        "  return tf.keras.callbacks.ModelCheckpoint(filepath=os.path.join(save_path,model_name), #filepath to save model\n",
        "                                            verbose=0, #only ouput not processing\n",
        "                                            save_best_only=True)"
      ],
      "metadata": {
        "id": "4aTmugPa_OIo"
      },
      "execution_count": null,
      "outputs": []
    },
    {
      "cell_type": "code",
      "source": [
        ""
      ],
      "metadata": {
        "id": "G-8iJ8F5AIx8"
      },
      "execution_count": null,
      "outputs": []
    },
    {
      "cell_type": "markdown",
      "source": [
        "\n",
        "# Model 2: Dense Model ( Window=10, horizon=1)\n",
        "A simple model, `model_2`:\n",
        "* A single dense (fully connected) layer with 128 hidden units and ReLU (rectified linear unit) activation\n",
        "* An output layer with linear activation (or no activation)\n",
        "* Adam optimizer and MAE loss function\n",
        "* Batch size of 128\n",
        "* 100 epochs\n",
        "\n",
        "Có thể tiến hành: hyperparameter tuning (the hidden units, the batch size, horizon size, window size)"
      ],
      "metadata": {
        "id": "6i3ToK-YA_jg"
      }
    },
    {
      "cell_type": "code",
      "source": [
        "import tensorflow as tf\n",
        "from tensorflow.keras import layers\n",
        "\n",
        "tf.random.set_seed(42)\n",
        "\n",
        "model_2=tf.keras.Sequential([\n",
        "      layers.Dense(128,activation=\"relu\"),\n",
        "      layers.Dense(HORIZON)], name=\"model_2_dense\")\n",
        "\n",
        "#Compile the model\n",
        "model_2.compile(loss=\"mae\",\n",
        "                optimizer=tf.keras.optimizers.Adam(),\n",
        "                metrics=[\"mae\"])\n",
        "#Fit model\n",
        "model_2.fit(x=feature_train,\n",
        "            y=label_train,\n",
        "            epochs=100,\n",
        "            verbose=1,\n",
        "            batch_size=128,\n",
        "            validation_split=0.2,\n",
        "            callbacks=[create_model_checkpoint(model_name=model_2.name)])# create ModelCheckpoint callback to save best model"
      ],
      "metadata": {
        "id": "DYSUZV73BweP",
        "colab": {
          "base_uri": "https://localhost:8080/"
        },
        "outputId": "d82b25aa-1b18-41c1-8a00-2e6fd8e96015"
      },
      "execution_count": null,
      "outputs": [
        {
          "output_type": "stream",
          "name": "stdout",
          "text": [
            "Epoch 1/100\n",
            " 7/12 [================>.............] - ETA: 0s - loss: 383.3022 - mae: 383.3022 INFO:tensorflow:Assets written to: model_experiments/model_2_dense/assets\n",
            "12/12 [==============================] - 3s 191ms/step - loss: 283.5819 - mae: 283.5819 - val_loss: 18.2659 - val_mae: 18.2659\n",
            "Epoch 2/100\n",
            "11/12 [==========================>...] - ETA: 0s - loss: 68.9950 - mae: 68.9950INFO:tensorflow:Assets written to: model_experiments/model_2_dense/assets\n",
            "12/12 [==============================] - 1s 115ms/step - loss: 66.4570 - mae: 66.4570 - val_loss: 17.4985 - val_mae: 17.4985\n",
            "Epoch 3/100\n",
            "12/12 [==============================] - 0s 9ms/step - loss: 29.6727 - mae: 29.6727 - val_loss: 41.0637 - val_mae: 41.0637\n",
            "Epoch 4/100\n",
            "12/12 [==============================] - 0s 10ms/step - loss: 22.3653 - mae: 22.3653 - val_loss: 17.7641 - val_mae: 17.7641\n",
            "Epoch 5/100\n",
            " 1/12 [=>............................] - ETA: 0s - loss: 16.4818 - mae: 16.4818INFO:tensorflow:Assets written to: model_experiments/model_2_dense/assets\n",
            "12/12 [==============================] - 1s 107ms/step - loss: 16.9251 - mae: 16.9251 - val_loss: 17.4026 - val_mae: 17.4026\n",
            "Epoch 6/100\n",
            "12/12 [==============================] - 0s 11ms/step - loss: 14.2801 - mae: 14.2801 - val_loss: 17.6902 - val_mae: 17.6902\n",
            "Epoch 7/100\n",
            "12/12 [==============================] - 0s 8ms/step - loss: 14.1153 - mae: 14.1153 - val_loss: 17.6652 - val_mae: 17.6652\n",
            "Epoch 8/100\n",
            "12/12 [==============================] - 0s 8ms/step - loss: 13.9826 - mae: 13.9826 - val_loss: 17.9178 - val_mae: 17.9178\n",
            "Epoch 9/100\n",
            "12/12 [==============================] - 0s 15ms/step - loss: 13.9152 - mae: 13.9152 - val_loss: 17.6733 - val_mae: 17.6733\n",
            "Epoch 10/100\n",
            " 8/12 [===================>..........] - ETA: 0s - loss: 13.6422 - mae: 13.6422INFO:tensorflow:Assets written to: model_experiments/model_2_dense/assets\n",
            "12/12 [==============================] - 1s 113ms/step - loss: 13.8930 - mae: 13.8930 - val_loss: 17.3959 - val_mae: 17.3959\n",
            "Epoch 11/100\n",
            "12/12 [==============================] - 0s 8ms/step - loss: 13.8617 - mae: 13.8617 - val_loss: 17.6253 - val_mae: 17.6253\n",
            "Epoch 12/100\n",
            "12/12 [==============================] - 0s 9ms/step - loss: 13.8223 - mae: 13.8223 - val_loss: 19.8946 - val_mae: 19.8946\n",
            "Epoch 13/100\n",
            " 9/12 [=====================>........] - ETA: 0s - loss: 13.7671 - mae: 13.7671INFO:tensorflow:Assets written to: model_experiments/model_2_dense/assets\n",
            "12/12 [==============================] - 2s 147ms/step - loss: 13.8331 - mae: 13.8331 - val_loss: 17.1097 - val_mae: 17.1097\n",
            "Epoch 14/100\n",
            "12/12 [==============================] - 0s 15ms/step - loss: 13.6467 - mae: 13.6467 - val_loss: 17.1214 - val_mae: 17.1214\n",
            "Epoch 15/100\n",
            "12/12 [==============================] - 0s 19ms/step - loss: 13.5291 - mae: 13.5291 - val_loss: 17.7947 - val_mae: 17.7947\n",
            "Epoch 16/100\n",
            "12/12 [==============================] - 0s 12ms/step - loss: 13.4233 - mae: 13.4233 - val_loss: 17.1281 - val_mae: 17.1281\n",
            "Epoch 17/100\n",
            " 8/12 [===================>..........] - ETA: 0s - loss: 13.4122 - mae: 13.4122INFO:tensorflow:Assets written to: model_experiments/model_2_dense/assets\n",
            "12/12 [==============================] - 1s 123ms/step - loss: 13.4811 - mae: 13.4811 - val_loss: 16.6826 - val_mae: 16.6826\n",
            "Epoch 18/100\n",
            "12/12 [==============================] - 0s 8ms/step - loss: 13.2809 - mae: 13.2809 - val_loss: 16.7921 - val_mae: 16.7921\n",
            "Epoch 19/100\n",
            "12/12 [==============================] - 0s 10ms/step - loss: 13.2035 - mae: 13.2035 - val_loss: 16.8357 - val_mae: 16.8357\n",
            "Epoch 20/100\n",
            " 8/12 [===================>..........] - ETA: 0s - loss: 13.1077 - mae: 13.1077INFO:tensorflow:Assets written to: model_experiments/model_2_dense/assets\n",
            "12/12 [==============================] - 2s 158ms/step - loss: 13.1978 - mae: 13.1978 - val_loss: 16.1668 - val_mae: 16.1668\n",
            "Epoch 21/100\n",
            "12/12 [==============================] - 0s 15ms/step - loss: 13.1350 - mae: 13.1350 - val_loss: 16.8729 - val_mae: 16.8729\n",
            "Epoch 22/100\n",
            "12/12 [==============================] - 0s 8ms/step - loss: 13.0397 - mae: 13.0397 - val_loss: 16.4835 - val_mae: 16.4835\n",
            "Epoch 23/100\n",
            " 1/12 [=>............................] - ETA: 0s - loss: 13.2476 - mae: 13.2476INFO:tensorflow:Assets written to: model_experiments/model_2_dense/assets\n",
            "12/12 [==============================] - 1s 115ms/step - loss: 12.8058 - mae: 12.8058 - val_loss: 15.7982 - val_mae: 15.7982\n",
            "Epoch 24/100\n",
            "12/12 [==============================] - 0s 7ms/step - loss: 12.8767 - mae: 12.8767 - val_loss: 16.0023 - val_mae: 16.0023\n",
            "Epoch 25/100\n",
            "12/12 [==============================] - 0s 13ms/step - loss: 12.9566 - mae: 12.9566 - val_loss: 19.9794 - val_mae: 19.9794\n",
            "Epoch 26/100\n",
            " 1/12 [=>............................] - ETA: 0s - loss: 16.5636 - mae: 16.5636INFO:tensorflow:Assets written to: model_experiments/model_2_dense/assets\n",
            "12/12 [==============================] - 1s 98ms/step - loss: 12.9817 - mae: 12.9817 - val_loss: 15.5941 - val_mae: 15.5941\n",
            "Epoch 27/100\n",
            " 1/12 [=>............................] - ETA: 0s - loss: 12.7248 - mae: 12.7248INFO:tensorflow:Assets written to: model_experiments/model_2_dense/assets\n",
            "12/12 [==============================] - 1s 92ms/step - loss: 12.8570 - mae: 12.8570 - val_loss: 15.4909 - val_mae: 15.4909\n",
            "Epoch 28/100\n",
            "12/12 [==============================] - 0s 12ms/step - loss: 12.5690 - mae: 12.5690 - val_loss: 17.4617 - val_mae: 17.4617\n",
            "Epoch 29/100\n",
            " 8/12 [===================>..........] - ETA: 0s - loss: 12.7999 - mae: 12.7999INFO:tensorflow:Assets written to: model_experiments/model_2_dense/assets\n",
            "12/12 [==============================] - 2s 161ms/step - loss: 12.3744 - mae: 12.3744 - val_loss: 15.1209 - val_mae: 15.1209\n",
            "Epoch 30/100\n",
            " 1/12 [=>............................] - ETA: 0s - loss: 11.7149 - mae: 11.7149INFO:tensorflow:Assets written to: model_experiments/model_2_dense/assets\n",
            "12/12 [==============================] - 1s 106ms/step - loss: 12.4876 - mae: 12.4876 - val_loss: 15.0314 - val_mae: 15.0314\n",
            "Epoch 31/100\n",
            " 1/12 [=>............................] - ETA: 0s - loss: 15.2128 - mae: 15.2128INFO:tensorflow:Assets written to: model_experiments/model_2_dense/assets\n",
            "12/12 [==============================] - 2s 159ms/step - loss: 12.3934 - mae: 12.3934 - val_loss: 14.8885 - val_mae: 14.8885\n",
            "Epoch 32/100\n",
            "12/12 [==============================] - 0s 10ms/step - loss: 12.0975 - mae: 12.0975 - val_loss: 15.6206 - val_mae: 15.6206\n",
            "Epoch 33/100\n",
            "12/12 [==============================] - 0s 9ms/step - loss: 11.8839 - mae: 11.8839 - val_loss: 15.8392 - val_mae: 15.8392\n",
            "Epoch 34/100\n",
            "12/12 [==============================] - 0s 8ms/step - loss: 12.1538 - mae: 12.1538 - val_loss: 16.9328 - val_mae: 16.9328\n",
            "Epoch 35/100\n",
            "12/12 [==============================] - 0s 10ms/step - loss: 11.8848 - mae: 11.8848 - val_loss: 16.2295 - val_mae: 16.2295\n",
            "Epoch 36/100\n",
            "12/12 [==============================] - 0s 10ms/step - loss: 11.8297 - mae: 11.8297 - val_loss: 17.0971 - val_mae: 17.0971\n",
            "Epoch 37/100\n",
            " 1/12 [=>............................] - ETA: 0s - loss: 12.4804 - mae: 12.4804INFO:tensorflow:Assets written to: model_experiments/model_2_dense/assets\n",
            "12/12 [==============================] - 1s 86ms/step - loss: 11.7228 - mae: 11.7228 - val_loss: 14.6031 - val_mae: 14.6031\n",
            "Epoch 38/100\n",
            " 1/12 [=>............................] - ETA: 0s - loss: 11.0306 - mae: 11.0306INFO:tensorflow:Assets written to: model_experiments/model_2_dense/assets\n",
            "12/12 [==============================] - 1s 107ms/step - loss: 11.5777 - mae: 11.5777 - val_loss: 14.0210 - val_mae: 14.0210\n",
            "Epoch 39/100\n",
            " 9/12 [=====================>........] - ETA: 0s - loss: 11.3757 - mae: 11.3757INFO:tensorflow:Assets written to: model_experiments/model_2_dense/assets\n",
            "12/12 [==============================] - 2s 143ms/step - loss: 11.4264 - mae: 11.4264 - val_loss: 13.8886 - val_mae: 13.8886\n",
            "Epoch 40/100\n",
            " 1/12 [=>............................] - ETA: 0s - loss: 11.7407 - mae: 11.7407INFO:tensorflow:Assets written to: model_experiments/model_2_dense/assets\n",
            "12/12 [==============================] - 1s 133ms/step - loss: 11.5317 - mae: 11.5317 - val_loss: 13.7996 - val_mae: 13.7996\n",
            "Epoch 41/100\n",
            "12/12 [==============================] - ETA: 0s - loss: 11.4677 - mae: 11.4677INFO:tensorflow:Assets written to: model_experiments/model_2_dense/assets\n",
            "12/12 [==============================] - 1s 114ms/step - loss: 11.4677 - mae: 11.4677 - val_loss: 13.6550 - val_mae: 13.6550\n",
            "Epoch 42/100\n",
            "12/12 [==============================] - 0s 16ms/step - loss: 11.0879 - mae: 11.0879 - val_loss: 14.4881 - val_mae: 14.4881\n",
            "Epoch 43/100\n",
            " 1/12 [=>............................] - ETA: 0s - loss: 9.5031 - mae: 9.5031INFO:tensorflow:Assets written to: model_experiments/model_2_dense/assets\n",
            "12/12 [==============================] - 2s 173ms/step - loss: 10.9338 - mae: 10.9338 - val_loss: 13.5822 - val_mae: 13.5822\n",
            "Epoch 44/100\n",
            "10/12 [========================>.....] - ETA: 0s - loss: 10.9897 - mae: 10.9897INFO:tensorflow:Assets written to: model_experiments/model_2_dense/assets\n",
            "12/12 [==============================] - 1s 105ms/step - loss: 10.9491 - mae: 10.9491 - val_loss: 13.2565 - val_mae: 13.2565\n",
            "Epoch 45/100\n",
            "12/12 [==============================] - 0s 13ms/step - loss: 11.1392 - mae: 11.1392 - val_loss: 13.9142 - val_mae: 13.9142\n",
            "Epoch 46/100\n",
            "10/12 [========================>.....] - ETA: 0s - loss: 10.7249 - mae: 10.7249INFO:tensorflow:Assets written to: model_experiments/model_2_dense/assets\n",
            "12/12 [==============================] - 2s 136ms/step - loss: 10.8723 - mae: 10.8723 - val_loss: 13.1620 - val_mae: 13.1620\n",
            "Epoch 47/100\n",
            " 1/12 [=>............................] - ETA: 0s - loss: 11.4570 - mae: 11.4570INFO:tensorflow:Assets written to: model_experiments/model_2_dense/assets\n",
            "12/12 [==============================] - 1s 124ms/step - loss: 10.5768 - mae: 10.5768 - val_loss: 12.8939 - val_mae: 12.8939\n",
            "Epoch 48/100\n",
            "12/12 [==============================] - 0s 9ms/step - loss: 10.4662 - mae: 10.4662 - val_loss: 13.2639 - val_mae: 13.2639\n",
            "Epoch 49/100\n",
            "10/12 [========================>.....] - ETA: 0s - loss: 9.9756 - mae: 9.9756  INFO:tensorflow:Assets written to: model_experiments/model_2_dense/assets\n",
            "12/12 [==============================] - 1s 117ms/step - loss: 10.2736 - mae: 10.2736 - val_loss: 12.6619 - val_mae: 12.6619\n",
            "Epoch 50/100\n",
            "12/12 [==============================] - 0s 15ms/step - loss: 10.3177 - mae: 10.3177 - val_loss: 12.8917 - val_mae: 12.8917\n",
            "Epoch 51/100\n",
            "12/12 [==============================] - 0s 15ms/step - loss: 10.6462 - mae: 10.6462 - val_loss: 13.5276 - val_mae: 13.5276\n",
            "Epoch 52/100\n",
            "12/12 [==============================] - 0s 8ms/step - loss: 10.1624 - mae: 10.1624 - val_loss: 13.4268 - val_mae: 13.4268\n",
            "Epoch 53/100\n",
            "12/12 [==============================] - 0s 8ms/step - loss: 10.3230 - mae: 10.3230 - val_loss: 13.1831 - val_mae: 13.1831\n",
            "Epoch 54/100\n",
            " 1/12 [=>............................] - ETA: 0s - loss: 10.9226 - mae: 10.9226INFO:tensorflow:Assets written to: model_experiments/model_2_dense/assets\n",
            "12/12 [==============================] - 1s 128ms/step - loss: 11.2448 - mae: 11.2448 - val_loss: 12.1016 - val_mae: 12.1016\n",
            "Epoch 55/100\n",
            "12/12 [==============================] - 0s 14ms/step - loss: 10.4997 - mae: 10.4997 - val_loss: 12.1179 - val_mae: 12.1179\n",
            "Epoch 56/100\n",
            " 1/12 [=>............................] - ETA: 0s - loss: 10.0385 - mae: 10.0385INFO:tensorflow:Assets written to: model_experiments/model_2_dense/assets\n",
            "12/12 [==============================] - 1s 128ms/step - loss: 9.8741 - mae: 9.8741 - val_loss: 11.8673 - val_mae: 11.8673\n",
            "Epoch 57/100\n",
            "12/12 [==============================] - 0s 11ms/step - loss: 10.2519 - mae: 10.2519 - val_loss: 12.2520 - val_mae: 12.2520\n",
            "Epoch 58/100\n",
            "12/12 [==============================] - 0s 12ms/step - loss: 9.8415 - mae: 9.8415 - val_loss: 14.2461 - val_mae: 14.2461\n",
            "Epoch 59/100\n",
            "12/12 [==============================] - 0s 13ms/step - loss: 9.8232 - mae: 9.8232 - val_loss: 12.0759 - val_mae: 12.0759\n",
            "Epoch 60/100\n",
            "11/12 [==========================>...] - ETA: 0s - loss: 9.8602 - mae: 9.8602INFO:tensorflow:Assets written to: model_experiments/model_2_dense/assets\n",
            "12/12 [==============================] - 2s 148ms/step - loss: 9.7435 - mae: 9.7435 - val_loss: 11.3704 - val_mae: 11.3704\n",
            "Epoch 61/100\n",
            " 1/12 [=>............................] - ETA: 0s - loss: 10.0683 - mae: 10.0683INFO:tensorflow:Assets written to: model_experiments/model_2_dense/assets\n",
            "12/12 [==============================] - 2s 141ms/step - loss: 9.2853 - mae: 9.2853 - val_loss: 11.2345 - val_mae: 11.2345\n",
            "Epoch 62/100\n",
            "12/12 [==============================] - 0s 11ms/step - loss: 9.1461 - mae: 9.1461 - val_loss: 11.4038 - val_mae: 11.4038\n",
            "Epoch 63/100\n",
            "12/12 [==============================] - 0s 11ms/step - loss: 9.5750 - mae: 9.5750 - val_loss: 11.4446 - val_mae: 11.4446\n",
            "Epoch 64/100\n",
            "12/12 [==============================] - 0s 9ms/step - loss: 9.6448 - mae: 9.6448 - val_loss: 14.0809 - val_mae: 14.0809\n",
            "Epoch 65/100\n",
            " 1/12 [=>............................] - ETA: 0s - loss: 9.7673 - mae: 9.7673INFO:tensorflow:Assets written to: model_experiments/model_2_dense/assets\n",
            "12/12 [==============================] - 1s 109ms/step - loss: 9.2314 - mae: 9.2314 - val_loss: 10.9131 - val_mae: 10.9131\n",
            "Epoch 66/100\n",
            "12/12 [==============================] - 0s 9ms/step - loss: 8.8899 - mae: 8.8899 - val_loss: 12.3005 - val_mae: 12.3005\n",
            "Epoch 67/100\n",
            "12/12 [==============================] - 0s 9ms/step - loss: 9.0391 - mae: 9.0391 - val_loss: 11.7970 - val_mae: 11.7970\n",
            "Epoch 68/100\n",
            "12/12 [==============================] - 0s 14ms/step - loss: 8.8767 - mae: 8.8767 - val_loss: 13.5005 - val_mae: 13.5005\n",
            "Epoch 69/100\n",
            "10/12 [========================>.....] - ETA: 0s - loss: 9.3802 - mae: 9.3802INFO:tensorflow:Assets written to: model_experiments/model_2_dense/assets\n",
            "12/12 [==============================] - 1s 114ms/step - loss: 9.1103 - mae: 9.1103 - val_loss: 10.8589 - val_mae: 10.8589\n",
            "Epoch 70/100\n",
            "11/12 [==========================>...] - ETA: 0s - loss: 8.7455 - mae: 8.7455INFO:tensorflow:Assets written to: model_experiments/model_2_dense/assets\n",
            "12/12 [==============================] - 1s 122ms/step - loss: 8.6667 - mae: 8.6667 - val_loss: 10.3061 - val_mae: 10.3061\n",
            "Epoch 71/100\n",
            "12/12 [==============================] - 0s 12ms/step - loss: 9.0429 - mae: 9.0429 - val_loss: 10.5563 - val_mae: 10.5563\n",
            "Epoch 72/100\n",
            "12/12 [==============================] - 0s 20ms/step - loss: 8.4693 - mae: 8.4693 - val_loss: 11.0918 - val_mae: 11.0918\n",
            "Epoch 73/100\n",
            "12/12 [==============================] - 0s 22ms/step - loss: 8.6902 - mae: 8.6902 - val_loss: 15.5569 - val_mae: 15.5569\n",
            "Epoch 74/100\n",
            "12/12 [==============================] - 0s 12ms/step - loss: 9.3572 - mae: 9.3572 - val_loss: 10.8258 - val_mae: 10.8258\n",
            "Epoch 75/100\n",
            "11/12 [==========================>...] - ETA: 0s - loss: 8.3540 - mae: 8.3540INFO:tensorflow:Assets written to: model_experiments/model_2_dense/assets\n",
            "12/12 [==============================] - 2s 145ms/step - loss: 8.4112 - mae: 8.4112 - val_loss: 10.2423 - val_mae: 10.2423\n",
            "Epoch 76/100\n",
            "11/12 [==========================>...] - ETA: 0s - loss: 8.2733 - mae: 8.2733INFO:tensorflow:Assets written to: model_experiments/model_2_dense/assets\n",
            "12/12 [==============================] - 1s 124ms/step - loss: 8.2070 - mae: 8.2070 - val_loss: 9.7973 - val_mae: 9.7973\n",
            "Epoch 77/100\n",
            "12/12 [==============================] - 0s 19ms/step - loss: 8.3377 - mae: 8.3377 - val_loss: 10.1829 - val_mae: 10.1829\n",
            "Epoch 78/100\n",
            "12/12 [==============================] - 0s 15ms/step - loss: 8.1982 - mae: 8.1982 - val_loss: 9.8843 - val_mae: 9.8843\n",
            "Epoch 79/100\n",
            "12/12 [==============================] - 0s 10ms/step - loss: 8.1028 - mae: 8.1028 - val_loss: 13.2031 - val_mae: 13.2031\n",
            "Epoch 80/100\n",
            " 1/12 [=>............................] - ETA: 0s - loss: 9.2507 - mae: 9.2507INFO:tensorflow:Assets written to: model_experiments/model_2_dense/assets\n",
            "12/12 [==============================] - 2s 164ms/step - loss: 8.2732 - mae: 8.2732 - val_loss: 9.6531 - val_mae: 9.6531\n",
            "Epoch 81/100\n",
            "10/12 [========================>.....] - ETA: 0s - loss: 7.9121 - mae: 7.9121INFO:tensorflow:Assets written to: model_experiments/model_2_dense/assets\n",
            "12/12 [==============================] - 2s 160ms/step - loss: 8.1018 - mae: 8.1018 - val_loss: 9.4064 - val_mae: 9.4064\n",
            "Epoch 82/100\n",
            "10/12 [========================>.....] - ETA: 0s - loss: 8.4596 - mae: 8.4596INFO:tensorflow:Assets written to: model_experiments/model_2_dense/assets\n",
            "12/12 [==============================] - 1s 131ms/step - loss: 8.4198 - mae: 8.4198 - val_loss: 9.3684 - val_mae: 9.3684\n",
            "Epoch 83/100\n",
            "12/12 [==============================] - 0s 12ms/step - loss: 8.0266 - mae: 8.0266 - val_loss: 9.8448 - val_mae: 9.8448\n",
            "Epoch 84/100\n",
            "11/12 [==========================>...] - ETA: 0s - loss: 7.8633 - mae: 7.8633INFO:tensorflow:Assets written to: model_experiments/model_2_dense/assets\n",
            "12/12 [==============================] - 2s 184ms/step - loss: 7.8627 - mae: 7.8627 - val_loss: 9.2045 - val_mae: 9.2045\n",
            "Epoch 85/100\n",
            "12/12 [==============================] - 0s 16ms/step - loss: 7.8280 - mae: 7.8280 - val_loss: 9.2287 - val_mae: 9.2287\n",
            "Epoch 86/100\n",
            "12/12 [==============================] - 0s 20ms/step - loss: 8.0336 - mae: 8.0336 - val_loss: 12.9712 - val_mae: 12.9712\n",
            "Epoch 87/100\n",
            "12/12 [==============================] - 0s 13ms/step - loss: 8.4089 - mae: 8.4089 - val_loss: 9.8572 - val_mae: 9.8572\n",
            "Epoch 88/100\n",
            "12/12 [==============================] - 0s 9ms/step - loss: 8.1017 - mae: 8.1017 - val_loss: 11.6379 - val_mae: 11.6379\n",
            "Epoch 89/100\n",
            "12/12 [==============================] - ETA: 0s - loss: 8.2574 - mae: 8.2574INFO:tensorflow:Assets written to: model_experiments/model_2_dense/assets\n",
            "12/12 [==============================] - 1s 114ms/step - loss: 8.2574 - mae: 8.2574 - val_loss: 8.9707 - val_mae: 8.9707\n",
            "Epoch 90/100\n",
            "12/12 [==============================] - 0s 12ms/step - loss: 8.4174 - mae: 8.4174 - val_loss: 9.8877 - val_mae: 9.8877\n",
            "Epoch 91/100\n",
            "12/12 [==============================] - 0s 7ms/step - loss: 9.0772 - mae: 9.0772 - val_loss: 11.7163 - val_mae: 11.7163\n",
            "Epoch 92/100\n",
            "12/12 [==============================] - 0s 6ms/step - loss: 8.6420 - mae: 8.6420 - val_loss: 12.7964 - val_mae: 12.7964\n",
            "Epoch 93/100\n",
            "12/12 [==============================] - 0s 5ms/step - loss: 9.1164 - mae: 9.1164 - val_loss: 9.7321 - val_mae: 9.7321\n",
            "Epoch 94/100\n",
            " 1/12 [=>............................] - ETA: 0s - loss: 8.4083 - mae: 8.4083INFO:tensorflow:Assets written to: model_experiments/model_2_dense/assets\n",
            "12/12 [==============================] - 1s 59ms/step - loss: 8.7321 - mae: 8.7321 - val_loss: 8.7166 - val_mae: 8.7166\n",
            "Epoch 95/100\n",
            "12/12 [==============================] - 0s 8ms/step - loss: 8.0083 - mae: 8.0083 - val_loss: 9.2878 - val_mae: 9.2878\n",
            "Epoch 96/100\n",
            "12/12 [==============================] - 0s 6ms/step - loss: 7.4303 - mae: 7.4303 - val_loss: 8.8378 - val_mae: 8.8378\n",
            "Epoch 97/100\n",
            "12/12 [==============================] - 0s 7ms/step - loss: 7.7901 - mae: 7.7901 - val_loss: 8.8182 - val_mae: 8.8182\n",
            "Epoch 98/100\n",
            "12/12 [==============================] - 0s 7ms/step - loss: 7.2894 - mae: 7.2894 - val_loss: 8.7187 - val_mae: 8.7187\n",
            "Epoch 99/100\n",
            " 1/12 [=>............................] - ETA: 0s - loss: 6.5672 - mae: 6.5672INFO:tensorflow:Assets written to: model_experiments/model_2_dense/assets\n",
            "12/12 [==============================] - 1s 59ms/step - loss: 7.0876 - mae: 7.0876 - val_loss: 8.4735 - val_mae: 8.4735\n",
            "Epoch 100/100\n",
            "12/12 [==============================] - 0s 8ms/step - loss: 7.1103 - mae: 7.1103 - val_loss: 8.6576 - val_mae: 8.6576\n"
          ]
        },
        {
          "output_type": "execute_result",
          "data": {
            "text/plain": [
              "<keras.callbacks.History at 0x7fb42a3adc90>"
            ]
          },
          "metadata": {},
          "execution_count": 24
        }
      ]
    },
    {
      "cell_type": "code",
      "source": [
        "# Load in saved best performing model_2 and evaluate on test data\n",
        "model_2 = tf.keras.models.load_model(\"model_experiments/model_2_dense\")\n",
        "model_2.evaluate(feature_test, label_test)"
      ],
      "metadata": {
        "colab": {
          "base_uri": "https://localhost:8080/"
        },
        "id": "esyw3HIvDcff",
        "outputId": "28709e8e-795e-4003-d7e4-4716c7ba8230"
      },
      "execution_count": null,
      "outputs": [
        {
          "output_type": "stream",
          "name": "stdout",
          "text": [
            "15/15 [==============================] - 0s 2ms/step - loss: 14.5431 - mae: 14.5431\n"
          ]
        },
        {
          "output_type": "execute_result",
          "data": {
            "text/plain": [
              "[14.543062210083008, 14.543062210083008]"
            ]
          },
          "metadata": {},
          "execution_count": 25
        }
      ]
    },
    {
      "cell_type": "code",
      "source": [
        "def make_preds(model, input_data):\n",
        "  \"\"\"\n",
        "  Uses model to make predictions on input_data.\n",
        "\n",
        "  Parameters\n",
        "  ----------\n",
        "  model: trained model \n",
        "  input_data: windowed input data (same kind of data model was trained on)\n",
        "\n",
        "  Returns model predictions on input_data.\n",
        "  \"\"\"\n",
        "  forecast = model.predict(input_data)\n",
        "  return tf.squeeze(forecast) # return 1D array of predictions"
      ],
      "metadata": {
        "id": "ieDNSkd8D8P3"
      },
      "execution_count": null,
      "outputs": []
    },
    {
      "cell_type": "code",
      "source": [
        "# Make predictions using model_2 on the test dataset and view the results\n",
        "model_2_preds = make_preds(model_2, feature_test)\n",
        "len(model_2_preds), model_2_preds[:10]"
      ],
      "metadata": {
        "colab": {
          "base_uri": "https://localhost:8080/"
        },
        "id": "dH3HDwMeD_E2",
        "outputId": "fddded85-a9af-4817-8258-e257cc36a65d"
      },
      "execution_count": null,
      "outputs": [
        {
          "output_type": "execute_result",
          "data": {
            "text/plain": [
              "(464, <tf.Tensor: shape=(10,), dtype=float32, numpy=\n",
              " array([797.8196 , 788.203  , 780.87   , 783.5899 , 781.5788 , 785.2963 ,\n",
              "        794.3596 , 797.32916, 802.21265, 812.61505], dtype=float32)>)"
            ]
          },
          "metadata": {},
          "execution_count": 27
        }
      ]
    },
    {
      "cell_type": "code",
      "source": [
        "# Evaluate preds\n",
        "model_2_results = evaluate_preds(y_true=tf.squeeze(label_test), # reduce to right shape\n",
        "                                 y_pred=model_2_preds)\n",
        "model_2_results"
      ],
      "metadata": {
        "colab": {
          "base_uri": "https://localhost:8080/"
        },
        "id": "Na77FxY3EPYy",
        "outputId": "360953ce-33b7-4b95-96a6-f292c6681e70"
      },
      "execution_count": null,
      "outputs": [
        {
          "output_type": "execute_result",
          "data": {
            "text/plain": [
              "{'mae': 14.543064,\n",
              " 'mape': 1.1814356,\n",
              " 'r2': 0.9946563334221062,\n",
              " 'rmse': 19.881355}"
            ]
          },
          "metadata": {},
          "execution_count": 28
        }
      ]
    },
    {
      "cell_type": "code",
      "source": [
        "naive_results"
      ],
      "metadata": {
        "colab": {
          "base_uri": "https://localhost:8080/"
        },
        "id": "Deo8IQSaEeUp",
        "outputId": "705e9991-7ea0-4dd6-b77a-76a0182f1682"
      },
      "execution_count": null,
      "outputs": [
        {
          "output_type": "execute_result",
          "data": {
            "text/plain": [
              "{'mae': 11.795142,\n",
              " 'mape': 0.94764006,\n",
              " 'r2': 0.9961809729783315,\n",
              " 'rmse': 16.841702}"
            ]
          },
          "metadata": {},
          "execution_count": 29
        }
      ]
    },
    {
      "cell_type": "code",
      "source": [
        "offset =0\n",
        "plt.figure(figsize=(10, 7))\n",
        "# Account for the test_window offset and index into test_labels to ensure correct plotting\n",
        "plot_time_series(timesteps=X_test[-len(feature_test):], values=label_test, start=offset, label=\"Test_data\")\n",
        "plot_time_series(timesteps=X_test[-len(feature_test):], values=model_2_preds, start=offset, format=\"-\", label=\"model_2_preds\")"
      ],
      "metadata": {
        "colab": {
          "base_uri": "https://localhost:8080/",
          "height": 442
        },
        "id": "kN8TNLYvEkH3",
        "outputId": "01720f04-4abc-4a6c-bfcb-09c56cef7dbb"
      },
      "execution_count": null,
      "outputs": [
        {
          "output_type": "display_data",
          "data": {
            "text/plain": [
              "<Figure size 720x504 with 1 Axes>"
            ],
            "image/png": "[encoded data removed]"
          },
          "metadata": {
            "needs_background": "light"
          }
        }
      ]
    },
    {
      "cell_type": "code",
      "source": [
        "pd.DataFrame({\"naive\": naive_results[\"mae\"], \n",
        "              \"horizon_1_window_7\": model_2_results[\"mae\"]\n",
        "              }, index=[\"mae\"]).plot(figsize=(10, 7), kind=\"bar\");"
      ],
      "metadata": {
        "colab": {
          "base_uri": "https://localhost:8080/",
          "height": 440
        },
        "id": "H7IarB0AF1CK",
        "outputId": "2d87de3e-4dd0-4380-b813-a7810d7479cc"
      },
      "execution_count": null,
      "outputs": [
        {
          "output_type": "display_data",
          "data": {
            "text/plain": [
              "<Figure size 720x504 with 1 Axes>"
            ],
            "image/png": "[encoded data removed]"
          },
          "metadata": {
            "needs_background": "light"
          }
        }
      ]
    },
    {
      "cell_type": "markdown",
      "source": [
        "# Model 3: Conv1D\n",
        "\n",
        "Bài toán sequence to sequence. Many to one. Sử dụng window size = 10 và horizon =1"
      ],
      "metadata": {
        "id": "prktrtX2GAzG"
      }
    },
    {
      "cell_type": "code",
      "source": [
        "HORIZON=1 #predict next day\n",
        "WINDOW_SIZE=10 #use previous 10 day of data"
      ],
      "metadata": {
        "id": "622HMrGu4-vV"
      },
      "execution_count": null,
      "outputs": []
    },
    {
      "cell_type": "code",
      "source": [
        "prices=VN30_price.iloc[:,0:1].values\n",
        "\n",
        "full_windows, full_labels = make_windows(prices, window_size=WINDOW_SIZE, horizon=HORIZON)\n",
        "print(full_windows.shape)\n",
        "print(full_labels.shape)"
      ],
      "metadata": {
        "colab": {
          "base_uri": "https://localhost:8080/"
        },
        "id": "ngXB7Fat565d",
        "outputId": "0d70c2ab-b480-429a-ff06-da2220ddb378"
      },
      "execution_count": null,
      "outputs": [
        {
          "output_type": "stream",
          "name": "stdout",
          "text": [
            "(2318, 10)\n",
            "(2318,)\n"
          ]
        }
      ]
    },
    {
      "cell_type": "code",
      "source": [
        "feature_train,feature_test,label_train,label_test=train_test_split(full_windows,full_labels,test_size=0.2, random_state=42,shuffle=False)\n",
        "len(feature_train), len(feature_test), len(label_train), len(label_test)"
      ],
      "metadata": {
        "colab": {
          "base_uri": "https://localhost:8080/"
        },
        "id": "GxUXTO7T6mv3",
        "outputId": "87c72970-c366-45e6-af7a-5f8c8441cfd4"
      },
      "execution_count": null,
      "outputs": [
        {
          "output_type": "execute_result",
          "data": {
            "text/plain": [
              "(1854, 464, 1854, 464)"
            ]
          },
          "metadata": {},
          "execution_count": 34
        }
      ]
    },
    {
      "cell_type": "markdown",
      "source": [
        "Data windowed!\n",
        "\n",
        "Now, since we're going to be using [Conv1D layers](https://www.tensorflow.org/api_docs/python/tf/keras/layers/Conv1D), we need to make sure our input shapes are correct.\n",
        "\n",
        "The Conv1D layer in TensorFlow takes an input of: `(batch_size, timesteps, input_dim)`.\n",
        "\n",
        "In our case, the `batch_size` (by default this is 32 but we can change it) is handled for us but the other values will be:\n",
        "* `timesteps = WINDOW_SIZE` - the `timesteps` is also often referred to as `features`, our features are the previous `WINDOW_SIZE` values of VN30 \n",
        "* `input_dim = HORIZON` - our model views `WINDOW_SIZE` (10 days) worth of data at a time to predict `HORIZON` (one day)\n",
        "\n",
        "Right now, our data has the `timesteps` dimension ready but we'll have to adjust it to have the `input_dim` dimension. "
      ],
      "metadata": {
        "id": "FoUNOS1l7UOs"
      }
    },
    {
      "cell_type": "code",
      "source": [
        "feature_train[0].shape"
      ],
      "metadata": {
        "colab": {
          "base_uri": "https://localhost:8080/"
        },
        "id": "B4-xf0Xg7cik",
        "outputId": "1654807c-854d-4c4b-9b4a-83c6e79fb43a"
      },
      "execution_count": null,
      "outputs": [
        {
          "output_type": "execute_result",
          "data": {
            "text/plain": [
              "(10,)"
            ]
          },
          "metadata": {},
          "execution_count": 35
        }
      ]
    },
    {
      "cell_type": "markdown",
      "source": [
        "To fix this, we could adjust the shape of all of our feature_train or we could use a **Lamdba layer** to do"
      ],
      "metadata": {
        "id": "EcTkVHvx8iml"
      }
    },
    {
      "cell_type": "code",
      "source": [
        "# Before we pass our data to the Conv1D layer, we have to reshape it in order to make sure it works\n",
        "x = tf.constant(feature_train[0])\n",
        "expand_dims_layer = layers.Lambda(lambda x: tf.expand_dims(x, axis=1)) # add an extra dimension for timesteps\n",
        "print(f\"Original shape: {x.shape}\") # (WINDOW_SIZE)\n",
        "print(f\"Expanded shape: {expand_dims_layer(x).shape}\") # (WINDOW_SIZE, input_dim) \n",
        "print(f\"Original values with expanded shape:\\n {expand_dims_layer(x)}\")"
      ],
      "metadata": {
        "colab": {
          "base_uri": "https://localhost:8080/"
        },
        "id": "olfOs7R_8x36",
        "outputId": "ebc5c064-9af8-4386-b96d-d07c49476883"
      },
      "execution_count": null,
      "outputs": [
        {
          "output_type": "stream",
          "name": "stdout",
          "text": [
            "Original shape: (10,)\n",
            "Expanded shape: (10, 1)\n",
            "Original values with expanded shape:\n",
            " [[490.82]\n",
            " [491.34]\n",
            " [498.31]\n",
            " [509.18]\n",
            " [525.36]\n",
            " [531.52]\n",
            " [545.8 ]\n",
            " [545.72]\n",
            " [537.42]\n",
            " [542.73]]\n"
          ]
        }
      ]
    },
    {
      "cell_type": "code",
      "source": [
        "tf.random.set_seed(42)\n",
        "\n",
        "# Create model\n",
        "model_3 = tf.keras.Sequential([\n",
        "  # Create Lambda layer to reshape inputs, without this layer, the model will error\n",
        "  layers.Lambda(lambda x: tf.expand_dims(x, axis=1)), # resize the inputs to adjust for window size / Conv1D 3D input requirements\n",
        "  layers.Conv1D(filters=128, kernel_size=5, padding=\"causal\", activation=\"relu\"),\n",
        "  layers.Dense(HORIZON)\n",
        "], name=\"model_3_conv1D\")\n",
        "\n",
        "# Compile model\n",
        "model_3.compile(loss=\"mae\",\n",
        "                optimizer=tf.keras.optimizers.Adam())\n",
        "\n",
        "# Fit model\n",
        "model_3.fit(feature_train,\n",
        "            label_train,\n",
        "            batch_size=128, \n",
        "            epochs=100,\n",
        "            verbose=0,\n",
        "             validation_split=0.2,\n",
        "            callbacks=[create_model_checkpoint(model_name=model_3.name)])"
      ],
      "metadata": {
        "colab": {
          "base_uri": "https://localhost:8080/"
        },
        "id": "4pY6ImOo92eT",
        "outputId": "b32ff6da-ea9f-4cc3-efa6-76123bdc8285"
      },
      "execution_count": null,
      "outputs": [
        {
          "output_type": "stream",
          "name": "stdout",
          "text": [
            "INFO:tensorflow:Assets written to: model_experiments/model_3_conv1D/assets\n",
            "INFO:tensorflow:Assets written to: model_experiments/model_3_conv1D/assets\n",
            "INFO:tensorflow:Assets written to: model_experiments/model_3_conv1D/assets\n",
            "INFO:tensorflow:Assets written to: model_experiments/model_3_conv1D/assets\n"
          ]
        },
        {
          "output_type": "execute_result",
          "data": {
            "text/plain": [
              "<keras.callbacks.History at 0x7fb42636ff10>"
            ]
          },
          "metadata": {},
          "execution_count": 37
        }
      ]
    },
    {
      "cell_type": "code",
      "source": [
        "model_3.summary()"
      ],
      "metadata": {
        "colab": {
          "base_uri": "https://localhost:8080/"
        },
        "id": "q_aUaTxbAUO8",
        "outputId": "a8820faa-0663-4d55-e46e-15c22420e0ad"
      },
      "execution_count": null,
      "outputs": [
        {
          "output_type": "stream",
          "name": "stdout",
          "text": [
            "Model: \"model_3_conv1D\"\n",
            "_________________________________________________________________\n",
            " Layer (type)                Output Shape              Param #   \n",
            "=================================================================\n",
            " lambda_1 (Lambda)           (None, 1, 10)             0         \n",
            "                                                                 \n",
            " conv1d (Conv1D)             (None, 1, 128)            6528      \n",
            "                                                                 \n",
            " dense_2 (Dense)             (None, 1, 1)              129       \n",
            "                                                                 \n",
            "=================================================================\n",
            "Total params: 6,657\n",
            "Trainable params: 6,657\n",
            "Non-trainable params: 0\n",
            "_________________________________________________________________\n"
          ]
        }
      ]
    },
    {
      "cell_type": "code",
      "source": [
        "#Load in best performing Conv1D model and evaluate it on the test data\n",
        "model_3=tf.keras.models.load_model(\"model_experiments/model_3_conv1D\")\n",
        "model_3.evaluate(feature_test,label_test)"
      ],
      "metadata": {
        "colab": {
          "base_uri": "https://localhost:8080/"
        },
        "id": "_1nvHOybApVB",
        "outputId": "b4c89cfe-1a3c-4b38-c568-a8d939289012"
      },
      "execution_count": null,
      "outputs": [
        {
          "output_type": "stream",
          "name": "stdout",
          "text": [
            "15/15 [==============================] - 0s 2ms/step - loss: 38.4516\n"
          ]
        },
        {
          "output_type": "execute_result",
          "data": {
            "text/plain": [
              "38.45155334472656"
            ]
          },
          "metadata": {},
          "execution_count": 39
        }
      ]
    },
    {
      "cell_type": "code",
      "source": [
        "# Make predictions\n",
        "model_3_preds = make_preds(model_3, feature_test)\n",
        "model_3_preds[:10]"
      ],
      "metadata": {
        "colab": {
          "base_uri": "https://localhost:8080/"
        },
        "id": "bIvgNf4uBJW8",
        "outputId": "b901e22b-6aa8-4f91-f5fc-a87658470365"
      },
      "execution_count": null,
      "outputs": [
        {
          "output_type": "execute_result",
          "data": {
            "text/plain": [
              "<tf.Tensor: shape=(10,), dtype=float32, numpy=\n",
              "array([790.74805, 788.92426, 787.5976 , 786.80194, 785.27045, 782.62036,\n",
              "       781.4223 , 781.38947, 780.425  , 783.1343 ], dtype=float32)>"
            ]
          },
          "metadata": {},
          "execution_count": 40
        }
      ]
    },
    {
      "cell_type": "code",
      "source": [
        "# Evaluate predictions\n",
        "model_3_results = evaluate_preds(y_true=tf.squeeze(label_test),\n",
        "                                 y_pred=model_3_preds)\n",
        "model_3_results"
      ],
      "metadata": {
        "colab": {
          "base_uri": "https://localhost:8080/"
        },
        "id": "HTYUSBvxBO0i",
        "outputId": "6e39c419-fbb0-4e6e-ec42-ba681b3c20f6"
      },
      "execution_count": null,
      "outputs": [
        {
          "output_type": "execute_result",
          "data": {
            "text/plain": [
              "{'mae': 31.677233,\n",
              " 'mape': 2.5828464,\n",
              " 'r2': 0.9806718736477049,\n",
              " 'rmse': 37.811264}"
            ]
          },
          "metadata": {},
          "execution_count": 41
        }
      ]
    },
    {
      "cell_type": "code",
      "source": [
        "feature_train.shape[1]"
      ],
      "metadata": {
        "colab": {
          "base_uri": "https://localhost:8080/"
        },
        "id": "xdNORrGOJHNQ",
        "outputId": "7bde3695-f5ef-4fab-f3fa-640a7841192a"
      },
      "execution_count": null,
      "outputs": [
        {
          "output_type": "execute_result",
          "data": {
            "text/plain": [
              "10"
            ]
          },
          "metadata": {},
          "execution_count": 50
        }
      ]
    },
    {
      "cell_type": "markdown",
      "source": [
        "# Model 4: RNN (LSTM)"
      ],
      "metadata": {
        "id": "dRTIQwdbGGmm"
      }
    },
    {
      "cell_type": "code",
      "source": [
        "tf.random.set_seed(42)\n",
        "\n",
        "\n",
        "inputs = layers.Input(shape=(WINDOW_SIZE))\n",
        "x = layers.Lambda(lambda x: tf.expand_dims(x, axis=1))(inputs) # expand input dimension to be compatible with LSTM\n",
        "print(x.shape)\n",
        "x = layers.LSTM(128, activation=\"relu\")(x)\n",
        "print(x.shape)\n",
        "\n",
        "output = layers.Dense(HORIZON)(x)\n",
        "model_4 = tf.keras.Model(inputs=inputs, outputs=output, name=\"model_4_lstm\")\n",
        "\n",
        "# Compile model\n",
        "model_4.compile(loss=\"mae\",\n",
        "                optimizer=tf.keras.optimizers.Adam())\n",
        "\n",
        "model_4.fit(feature_train,\n",
        "            label_train,\n",
        "            epochs=100,\n",
        "            verbose=0,\n",
        "            batch_size=128,\n",
        "            validation_split=0.2,\n",
        "            callbacks=[create_model_checkpoint(model_name=model_4.name)])"
      ],
      "metadata": {
        "colab": {
          "base_uri": "https://localhost:8080/"
        },
        "id": "Ai7TERuOC4vg",
        "outputId": "98f8b1d8-2236-4d24-cab1-d31f660291a1"
      },
      "execution_count": null,
      "outputs": [
        {
          "output_type": "stream",
          "name": "stdout",
          "text": [
            "(None, 1, 10)\n",
            "(None, 128)\n",
            "INFO:tensorflow:Assets written to: model_experiments/model_4_lstm/assets\n"
          ]
        },
        {
          "output_type": "stream",
          "name": "stderr",
          "text": [
            "INFO:tensorflow:Assets written to: model_experiments/model_4_lstm/assets\n",
            "WARNING:absl:<keras.layers.recurrent.LSTMCell object at 0x7fb420f8ba50> has the same name 'LSTMCell' as a built-in Keras object. Consider renaming <class 'keras.layers.recurrent.LSTMCell'> to avoid naming conflicts when loading with `tf.keras.models.load_model`. If renaming is not possible, pass the object in the `custom_objects` parameter of the load function.\n"
          ]
        },
        {
          "output_type": "stream",
          "name": "stdout",
          "text": [
            "INFO:tensorflow:Assets written to: model_experiments/model_4_lstm/assets\n"
          ]
        },
        {
          "output_type": "stream",
          "name": "stderr",
          "text": [
            "INFO:tensorflow:Assets written to: model_experiments/model_4_lstm/assets\n",
            "WARNING:absl:<keras.layers.recurrent.LSTMCell object at 0x7fb420f8ba50> has the same name 'LSTMCell' as a built-in Keras object. Consider renaming <class 'keras.layers.recurrent.LSTMCell'> to avoid naming conflicts when loading with `tf.keras.models.load_model`. If renaming is not possible, pass the object in the `custom_objects` parameter of the load function.\n"
          ]
        },
        {
          "output_type": "stream",
          "name": "stdout",
          "text": [
            "INFO:tensorflow:Assets written to: model_experiments/model_4_lstm/assets\n"
          ]
        },
        {
          "output_type": "stream",
          "name": "stderr",
          "text": [
            "INFO:tensorflow:Assets written to: model_experiments/model_4_lstm/assets\n",
            "WARNING:absl:<keras.layers.recurrent.LSTMCell object at 0x7fb420f8ba50> has the same name 'LSTMCell' as a built-in Keras object. Consider renaming <class 'keras.layers.recurrent.LSTMCell'> to avoid naming conflicts when loading with `tf.keras.models.load_model`. If renaming is not possible, pass the object in the `custom_objects` parameter of the load function.\n"
          ]
        },
        {
          "output_type": "stream",
          "name": "stdout",
          "text": [
            "INFO:tensorflow:Assets written to: model_experiments/model_4_lstm/assets\n"
          ]
        },
        {
          "output_type": "stream",
          "name": "stderr",
          "text": [
            "INFO:tensorflow:Assets written to: model_experiments/model_4_lstm/assets\n",
            "WARNING:absl:<keras.layers.recurrent.LSTMCell object at 0x7fb420f8ba50> has the same name 'LSTMCell' as a built-in Keras object. Consider renaming <class 'keras.layers.recurrent.LSTMCell'> to avoid naming conflicts when loading with `tf.keras.models.load_model`. If renaming is not possible, pass the object in the `custom_objects` parameter of the load function.\n"
          ]
        },
        {
          "output_type": "stream",
          "name": "stdout",
          "text": [
            "INFO:tensorflow:Assets written to: model_experiments/model_4_lstm/assets\n"
          ]
        },
        {
          "output_type": "stream",
          "name": "stderr",
          "text": [
            "INFO:tensorflow:Assets written to: model_experiments/model_4_lstm/assets\n",
            "WARNING:absl:<keras.layers.recurrent.LSTMCell object at 0x7fb420f8ba50> has the same name 'LSTMCell' as a built-in Keras object. Consider renaming <class 'keras.layers.recurrent.LSTMCell'> to avoid naming conflicts when loading with `tf.keras.models.load_model`. If renaming is not possible, pass the object in the `custom_objects` parameter of the load function.\n"
          ]
        },
        {
          "output_type": "stream",
          "name": "stdout",
          "text": [
            "INFO:tensorflow:Assets written to: model_experiments/model_4_lstm/assets\n"
          ]
        },
        {
          "output_type": "stream",
          "name": "stderr",
          "text": [
            "INFO:tensorflow:Assets written to: model_experiments/model_4_lstm/assets\n",
            "WARNING:absl:<keras.layers.recurrent.LSTMCell object at 0x7fb420f8ba50> has the same name 'LSTMCell' as a built-in Keras object. Consider renaming <class 'keras.layers.recurrent.LSTMCell'> to avoid naming conflicts when loading with `tf.keras.models.load_model`. If renaming is not possible, pass the object in the `custom_objects` parameter of the load function.\n"
          ]
        },
        {
          "output_type": "stream",
          "name": "stdout",
          "text": [
            "INFO:tensorflow:Assets written to: model_experiments/model_4_lstm/assets\n"
          ]
        },
        {
          "output_type": "stream",
          "name": "stderr",
          "text": [
            "INFO:tensorflow:Assets written to: model_experiments/model_4_lstm/assets\n",
            "WARNING:absl:<keras.layers.recurrent.LSTMCell object at 0x7fb420f8ba50> has the same name 'LSTMCell' as a built-in Keras object. Consider renaming <class 'keras.layers.recurrent.LSTMCell'> to avoid naming conflicts when loading with `tf.keras.models.load_model`. If renaming is not possible, pass the object in the `custom_objects` parameter of the load function.\n"
          ]
        },
        {
          "output_type": "stream",
          "name": "stdout",
          "text": [
            "INFO:tensorflow:Assets written to: model_experiments/model_4_lstm/assets\n"
          ]
        },
        {
          "output_type": "stream",
          "name": "stderr",
          "text": [
            "INFO:tensorflow:Assets written to: model_experiments/model_4_lstm/assets\n",
            "WARNING:absl:<keras.layers.recurrent.LSTMCell object at 0x7fb420f8ba50> has the same name 'LSTMCell' as a built-in Keras object. Consider renaming <class 'keras.layers.recurrent.LSTMCell'> to avoid naming conflicts when loading with `tf.keras.models.load_model`. If renaming is not possible, pass the object in the `custom_objects` parameter of the load function.\n"
          ]
        },
        {
          "output_type": "stream",
          "name": "stdout",
          "text": [
            "INFO:tensorflow:Assets written to: model_experiments/model_4_lstm/assets\n"
          ]
        },
        {
          "output_type": "stream",
          "name": "stderr",
          "text": [
            "INFO:tensorflow:Assets written to: model_experiments/model_4_lstm/assets\n",
            "WARNING:absl:<keras.layers.recurrent.LSTMCell object at 0x7fb420f8ba50> has the same name 'LSTMCell' as a built-in Keras object. Consider renaming <class 'keras.layers.recurrent.LSTMCell'> to avoid naming conflicts when loading with `tf.keras.models.load_model`. If renaming is not possible, pass the object in the `custom_objects` parameter of the load function.\n"
          ]
        },
        {
          "output_type": "stream",
          "name": "stdout",
          "text": [
            "INFO:tensorflow:Assets written to: model_experiments/model_4_lstm/assets\n"
          ]
        },
        {
          "output_type": "stream",
          "name": "stderr",
          "text": [
            "INFO:tensorflow:Assets written to: model_experiments/model_4_lstm/assets\n",
            "WARNING:absl:<keras.layers.recurrent.LSTMCell object at 0x7fb420f8ba50> has the same name 'LSTMCell' as a built-in Keras object. Consider renaming <class 'keras.layers.recurrent.LSTMCell'> to avoid naming conflicts when loading with `tf.keras.models.load_model`. If renaming is not possible, pass the object in the `custom_objects` parameter of the load function.\n"
          ]
        },
        {
          "output_type": "stream",
          "name": "stdout",
          "text": [
            "INFO:tensorflow:Assets written to: model_experiments/model_4_lstm/assets\n"
          ]
        },
        {
          "output_type": "stream",
          "name": "stderr",
          "text": [
            "INFO:tensorflow:Assets written to: model_experiments/model_4_lstm/assets\n",
            "WARNING:absl:<keras.layers.recurrent.LSTMCell object at 0x7fb420f8ba50> has the same name 'LSTMCell' as a built-in Keras object. Consider renaming <class 'keras.layers.recurrent.LSTMCell'> to avoid naming conflicts when loading with `tf.keras.models.load_model`. If renaming is not possible, pass the object in the `custom_objects` parameter of the load function.\n"
          ]
        },
        {
          "output_type": "stream",
          "name": "stdout",
          "text": [
            "INFO:tensorflow:Assets written to: model_experiments/model_4_lstm/assets\n"
          ]
        },
        {
          "output_type": "stream",
          "name": "stderr",
          "text": [
            "INFO:tensorflow:Assets written to: model_experiments/model_4_lstm/assets\n",
            "WARNING:absl:<keras.layers.recurrent.LSTMCell object at 0x7fb420f8ba50> has the same name 'LSTMCell' as a built-in Keras object. Consider renaming <class 'keras.layers.recurrent.LSTMCell'> to avoid naming conflicts when loading with `tf.keras.models.load_model`. If renaming is not possible, pass the object in the `custom_objects` parameter of the load function.\n"
          ]
        },
        {
          "output_type": "stream",
          "name": "stdout",
          "text": [
            "INFO:tensorflow:Assets written to: model_experiments/model_4_lstm/assets\n"
          ]
        },
        {
          "output_type": "stream",
          "name": "stderr",
          "text": [
            "INFO:tensorflow:Assets written to: model_experiments/model_4_lstm/assets\n",
            "WARNING:absl:<keras.layers.recurrent.LSTMCell object at 0x7fb420f8ba50> has the same name 'LSTMCell' as a built-in Keras object. Consider renaming <class 'keras.layers.recurrent.LSTMCell'> to avoid naming conflicts when loading with `tf.keras.models.load_model`. If renaming is not possible, pass the object in the `custom_objects` parameter of the load function.\n"
          ]
        },
        {
          "output_type": "stream",
          "name": "stdout",
          "text": [
            "INFO:tensorflow:Assets written to: model_experiments/model_4_lstm/assets\n"
          ]
        },
        {
          "output_type": "stream",
          "name": "stderr",
          "text": [
            "INFO:tensorflow:Assets written to: model_experiments/model_4_lstm/assets\n",
            "WARNING:absl:<keras.layers.recurrent.LSTMCell object at 0x7fb420f8ba50> has the same name 'LSTMCell' as a built-in Keras object. Consider renaming <class 'keras.layers.recurrent.LSTMCell'> to avoid naming conflicts when loading with `tf.keras.models.load_model`. If renaming is not possible, pass the object in the `custom_objects` parameter of the load function.\n"
          ]
        },
        {
          "output_type": "stream",
          "name": "stdout",
          "text": [
            "INFO:tensorflow:Assets written to: model_experiments/model_4_lstm/assets\n"
          ]
        },
        {
          "output_type": "stream",
          "name": "stderr",
          "text": [
            "INFO:tensorflow:Assets written to: model_experiments/model_4_lstm/assets\n",
            "WARNING:absl:<keras.layers.recurrent.LSTMCell object at 0x7fb420f8ba50> has the same name 'LSTMCell' as a built-in Keras object. Consider renaming <class 'keras.layers.recurrent.LSTMCell'> to avoid naming conflicts when loading with `tf.keras.models.load_model`. If renaming is not possible, pass the object in the `custom_objects` parameter of the load function.\n"
          ]
        },
        {
          "output_type": "stream",
          "name": "stdout",
          "text": [
            "INFO:tensorflow:Assets written to: model_experiments/model_4_lstm/assets\n"
          ]
        },
        {
          "output_type": "stream",
          "name": "stderr",
          "text": [
            "INFO:tensorflow:Assets written to: model_experiments/model_4_lstm/assets\n",
            "WARNING:absl:<keras.layers.recurrent.LSTMCell object at 0x7fb420f8ba50> has the same name 'LSTMCell' as a built-in Keras object. Consider renaming <class 'keras.layers.recurrent.LSTMCell'> to avoid naming conflicts when loading with `tf.keras.models.load_model`. If renaming is not possible, pass the object in the `custom_objects` parameter of the load function.\n"
          ]
        },
        {
          "output_type": "stream",
          "name": "stdout",
          "text": [
            "INFO:tensorflow:Assets written to: model_experiments/model_4_lstm/assets\n"
          ]
        },
        {
          "output_type": "stream",
          "name": "stderr",
          "text": [
            "INFO:tensorflow:Assets written to: model_experiments/model_4_lstm/assets\n",
            "WARNING:absl:<keras.layers.recurrent.LSTMCell object at 0x7fb420f8ba50> has the same name 'LSTMCell' as a built-in Keras object. Consider renaming <class 'keras.layers.recurrent.LSTMCell'> to avoid naming conflicts when loading with `tf.keras.models.load_model`. If renaming is not possible, pass the object in the `custom_objects` parameter of the load function.\n"
          ]
        },
        {
          "output_type": "stream",
          "name": "stdout",
          "text": [
            "INFO:tensorflow:Assets written to: model_experiments/model_4_lstm/assets\n"
          ]
        },
        {
          "output_type": "stream",
          "name": "stderr",
          "text": [
            "INFO:tensorflow:Assets written to: model_experiments/model_4_lstm/assets\n",
            "WARNING:absl:<keras.layers.recurrent.LSTMCell object at 0x7fb420f8ba50> has the same name 'LSTMCell' as a built-in Keras object. Consider renaming <class 'keras.layers.recurrent.LSTMCell'> to avoid naming conflicts when loading with `tf.keras.models.load_model`. If renaming is not possible, pass the object in the `custom_objects` parameter of the load function.\n"
          ]
        },
        {
          "output_type": "stream",
          "name": "stdout",
          "text": [
            "INFO:tensorflow:Assets written to: model_experiments/model_4_lstm/assets\n"
          ]
        },
        {
          "output_type": "stream",
          "name": "stderr",
          "text": [
            "INFO:tensorflow:Assets written to: model_experiments/model_4_lstm/assets\n",
            "WARNING:absl:<keras.layers.recurrent.LSTMCell object at 0x7fb420f8ba50> has the same name 'LSTMCell' as a built-in Keras object. Consider renaming <class 'keras.layers.recurrent.LSTMCell'> to avoid naming conflicts when loading with `tf.keras.models.load_model`. If renaming is not possible, pass the object in the `custom_objects` parameter of the load function.\n"
          ]
        },
        {
          "output_type": "stream",
          "name": "stdout",
          "text": [
            "INFO:tensorflow:Assets written to: model_experiments/model_4_lstm/assets\n",
            "INFO:tensorflow:Assets written to: model_experiments/model_4_lstm/assets\n"
          ]
        },
        {
          "output_type": "stream",
          "name": "stderr",
          "text": [
            "INFO:tensorflow:Assets written to: model_experiments/model_4_lstm/assets\n",
            "WARNING:absl:<keras.layers.recurrent.LSTMCell object at 0x7fb420f8ba50> has the same name 'LSTMCell' as a built-in Keras object. Consider renaming <class 'keras.layers.recurrent.LSTMCell'> to avoid naming conflicts when loading with `tf.keras.models.load_model`. If renaming is not possible, pass the object in the `custom_objects` parameter of the load function.\n"
          ]
        },
        {
          "output_type": "stream",
          "name": "stdout",
          "text": [
            "INFO:tensorflow:Assets written to: model_experiments/model_4_lstm/assets\n"
          ]
        },
        {
          "output_type": "stream",
          "name": "stderr",
          "text": [
            "INFO:tensorflow:Assets written to: model_experiments/model_4_lstm/assets\n",
            "WARNING:absl:<keras.layers.recurrent.LSTMCell object at 0x7fb420f8ba50> has the same name 'LSTMCell' as a built-in Keras object. Consider renaming <class 'keras.layers.recurrent.LSTMCell'> to avoid naming conflicts when loading with `tf.keras.models.load_model`. If renaming is not possible, pass the object in the `custom_objects` parameter of the load function.\n"
          ]
        },
        {
          "output_type": "stream",
          "name": "stdout",
          "text": [
            "INFO:tensorflow:Assets written to: model_experiments/model_4_lstm/assets\n"
          ]
        },
        {
          "output_type": "stream",
          "name": "stderr",
          "text": [
            "INFO:tensorflow:Assets written to: model_experiments/model_4_lstm/assets\n",
            "WARNING:absl:<keras.layers.recurrent.LSTMCell object at 0x7fb420f8ba50> has the same name 'LSTMCell' as a built-in Keras object. Consider renaming <class 'keras.layers.recurrent.LSTMCell'> to avoid naming conflicts when loading with `tf.keras.models.load_model`. If renaming is not possible, pass the object in the `custom_objects` parameter of the load function.\n"
          ]
        },
        {
          "output_type": "stream",
          "name": "stdout",
          "text": [
            "INFO:tensorflow:Assets written to: model_experiments/model_4_lstm/assets\n"
          ]
        },
        {
          "output_type": "stream",
          "name": "stderr",
          "text": [
            "INFO:tensorflow:Assets written to: model_experiments/model_4_lstm/assets\n",
            "WARNING:absl:<keras.layers.recurrent.LSTMCell object at 0x7fb420f8ba50> has the same name 'LSTMCell' as a built-in Keras object. Consider renaming <class 'keras.layers.recurrent.LSTMCell'> to avoid naming conflicts when loading with `tf.keras.models.load_model`. If renaming is not possible, pass the object in the `custom_objects` parameter of the load function.\n"
          ]
        },
        {
          "output_type": "execute_result",
          "data": {
            "text/plain": [
              "<keras.callbacks.History at 0x7fb42122c790>"
            ]
          },
          "metadata": {},
          "execution_count": 57
        }
      ]
    },
    {
      "cell_type": "code",
      "source": [
        "# Load in best version of model 4 and evaluate on the test data\n",
        "model_4 = tf.keras.models.load_model(\"model_experiments/model_4_lstm/\")\n",
        "model_4.evaluate(feature_test,label_test)"
      ],
      "metadata": {
        "colab": {
          "base_uri": "https://localhost:8080/"
        },
        "id": "zgFvY1BMIgGP",
        "outputId": "6187552c-3dd0-4c1c-8e6e-794491bff857"
      },
      "execution_count": null,
      "outputs": [
        {
          "output_type": "stream",
          "name": "stdout",
          "text": [
            "15/15 [==============================] - 0s 2ms/step - loss: 22.4322\n"
          ]
        },
        {
          "output_type": "execute_result",
          "data": {
            "text/plain": [
              "22.43215560913086"
            ]
          },
          "metadata": {},
          "execution_count": 58
        }
      ]
    },
    {
      "cell_type": "code",
      "source": [
        "# Make predictions with our LSTM model\n",
        "model_4_preds = make_preds(model_4, feature_test)\n",
        "model_4_preds[:10]"
      ],
      "metadata": {
        "colab": {
          "base_uri": "https://localhost:8080/"
        },
        "id": "BWzMKWXXI1uB",
        "outputId": "1b1d9631-1012-4759-abb0-9a508d454b05"
      },
      "execution_count": null,
      "outputs": [
        {
          "output_type": "execute_result",
          "data": {
            "text/plain": [
              "<tf.Tensor: shape=(10,), dtype=float32, numpy=\n",
              "array([800.0853 , 798.853  , 794.8706 , 791.9317 , 790.1942 , 789.14966,\n",
              "       789.6178 , 790.95776, 792.81775, 796.994  ], dtype=float32)>"
            ]
          },
          "metadata": {},
          "execution_count": 59
        }
      ]
    },
    {
      "cell_type": "code",
      "source": [
        "# Evaluate model 4 preds\n",
        "model_4_results = evaluate_preds(y_true=tf.squeeze(label_test),\n",
        "                                 y_pred=model_4_preds)\n",
        "model_4_results"
      ],
      "metadata": {
        "colab": {
          "base_uri": "https://localhost:8080/"
        },
        "id": "lw02hyyVKeeR",
        "outputId": "0484063a-3c75-4c13-f60f-405f2e98bf04"
      },
      "execution_count": null,
      "outputs": [
        {
          "output_type": "execute_result",
          "data": {
            "text/plain": [
              "{'mae': 22.432154,\n",
              " 'mape': 1.8310513,\n",
              " 'r2': 0.9883782099277402,\n",
              " 'rmse': 29.319925}"
            ]
          },
          "metadata": {},
          "execution_count": 61
        }
      ]
    },
    {
      "cell_type": "code",
      "source": [
        "# Compare different model results \n",
        "model_results = pd.DataFrame({\"naive_model\": naive_results,\n",
        "                              \"model_2_dense_w7_h1\": model_2_results,\n",
        "                              \"model_3_CONV1D\": model_3_results,\n",
        "                              \"model_4_LSTM\": model_4_results}).T\n",
        "model_results"
      ],
      "metadata": {
        "colab": {
          "base_uri": "https://localhost:8080/",
          "height": 175
        },
        "id": "Er9q9uAhK5SO",
        "outputId": "151621ca-730a-41cf-d6d4-db5b9aacefea"
      },
      "execution_count": null,
      "outputs": [
        {
          "output_type": "execute_result",
          "data": {
            "text/plain": [
              "                           mae       rmse      mape        r2\n",
              "naive_model          11.795142  16.841702  0.947640  0.996181\n",
              "model_2_dense_w7_h1  14.543064  19.881355  1.181436  0.994656\n",
              "model_3_CONV1D       31.677233  37.811264  2.582846  0.980672\n",
              "model_4_LSTM         22.432154  29.319925  1.831051  0.988378"
            ],
            "text/html": [
              "\n",
              "  <div id=\"df-bf54e70b-7f7f-4111-844a-d05e9969ec0f\">\n",
              "    <div class=\"colab-df-container\">\n",
              "      <div>\n",
              "<style scoped>\n",
              "    .dataframe tbody tr th:only-of-type {\n",
              "        vertical-align: middle;\n",
              "    }\n",
              "\n",
              "    .dataframe tbody tr th {\n",
              "        vertical-align: top;\n",
              "    }\n",
              "\n",
              "    .dataframe thead th {\n",
              "        text-align: right;\n",
              "    }\n",
              "</style>\n",
              "<table border=\"1\" class=\"dataframe\">\n",
              "  <thead>\n",
              "    <tr style=\"text-align: right;\">\n",
              "      <th></th>\n",
              "      <th>mae</th>\n",
              "      <th>rmse</th>\n",
              "      <th>mape</th>\n",
              "      <th>r2</th>\n",
              "    </tr>\n",
              "  </thead>\n",
              "  <tbody>\n",
              "    <tr>\n",
              "      <th>naive_model</th>\n",
              "      <td>11.795142</td>\n",
              "      <td>16.841702</td>\n",
              "      <td>0.947640</td>\n",
              "      <td>0.996181</td>\n",
              "    </tr>\n",
              "    <tr>\n",
              "      <th>model_2_dense_w7_h1</th>\n",
              "      <td>14.543064</td>\n",
              "      <td>19.881355</td>\n",
              "      <td>1.181436</td>\n",
              "      <td>0.994656</td>\n",
              "    </tr>\n",
              "    <tr>\n",
              "      <th>model_3_CONV1D</th>\n",
              "      <td>31.677233</td>\n",
              "      <td>37.811264</td>\n",
              "      <td>2.582846</td>\n",
              "      <td>0.980672</td>\n",
              "    </tr>\n",
              "    <tr>\n",
              "      <th>model_4_LSTM</th>\n",
              "      <td>22.432154</td>\n",
              "      <td>29.319925</td>\n",
              "      <td>1.831051</td>\n",
              "      <td>0.988378</td>\n",
              "    </tr>\n",
              "  </tbody>\n",
              "</table>\n",
              "</div>\n",
              "      <button class=\"colab-df-convert\" onclick=\"convertToInteractive('df-bf54e70b-7f7f-4111-844a-d05e9969ec0f')\"\n",
              "              title=\"Convert this dataframe to an interactive table.\"\n",
              "              style=\"display:none;\">\n",
              "        \n",
              "  <svg xmlns=\"http://www.w3.org/2000/svg\" height=\"24px\"viewBox=\"0 0 24 24\"\n",
              "       width=\"24px\">\n",
              "    <path d=\"M0 0h24v24H0V0z\" fill=\"none\"/>\n",
              "    <path d=\"M18.56 5.44l.94 2.06.94-2.06 2.06-.94-2.06-.94-.94-2.06-.94 2.06-2.06.94zm-11 1L8.5 8.5l.94-2.06 2.06-.94-2.06-.94L8.5 2.5l-.94 2.06-2.06.94zm10 10l.94 2.06.94-2.06 2.06-.94-2.06-.94-.94-2.06-.94 2.06-2.06.94z\"/><path d=\"M17.41 7.96l-1.37-1.37c-.4-.4-.92-.59-1.43-.59-.52 0-1.04.2-1.43.59L10.3 9.45l-7.72 7.72c-.78.78-.78 2.05 0 2.83L4 21.41c.39.39.9.59 1.41.59.51 0 1.02-.2 1.41-.59l7.78-7.78 2.81-2.81c.8-.78.8-2.07 0-2.86zM5.41 20L4 18.59l7.72-7.72 1.47 1.35L5.41 20z\"/>\n",
              "  </svg>\n",
              "      </button>\n",
              "      \n",
              "  <style>\n",
              "    .colab-df-container {\n",
              "      display:flex;\n",
              "      flex-wrap:wrap;\n",
              "      gap: 12px;\n",
              "    }\n",
              "\n",
              "    .colab-df-convert {\n",
              "      background-color: #E8F0FE;\n",
              "      border: none;\n",
              "      border-radius: 50%;\n",
              "      cursor: pointer;\n",
              "      display: none;\n",
              "      fill: #1967D2;\n",
              "      height: 32px;\n",
              "      padding: 0 0 0 0;\n",
              "      width: 32px;\n",
              "    }\n",
              "\n",
              "    .colab-df-convert:hover {\n",
              "      background-color: #E2EBFA;\n",
              "      box-shadow: 0px 1px 2px rgba(60, 64, 67, 0.3), 0px 1px 3px 1px rgba(60, 64, 67, 0.15);\n",
              "      fill: #174EA6;\n",
              "    }\n",
              "\n",
              "    [theme=dark] .colab-df-convert {\n",
              "      background-color: #3B4455;\n",
              "      fill: #D2E3FC;\n",
              "    }\n",
              "\n",
              "    [theme=dark] .colab-df-convert:hover {\n",
              "      background-color: #434B5C;\n",
              "      box-shadow: 0px 1px 3px 1px rgba(0, 0, 0, 0.15);\n",
              "      filter: drop-shadow(0px 1px 2px rgba(0, 0, 0, 0.3));\n",
              "      fill: #FFFFFF;\n",
              "    }\n",
              "  </style>\n",
              "\n",
              "      <script>\n",
              "        const buttonEl =\n",
              "          document.querySelector('#df-bf54e70b-7f7f-4111-844a-d05e9969ec0f button.colab-df-convert');\n",
              "        buttonEl.style.display =\n",
              "          google.colab.kernel.accessAllowed ? 'block' : 'none';\n",
              "\n",
              "        async function convertToInteractive(key) {\n",
              "          const element = document.querySelector('#df-bf54e70b-7f7f-4111-844a-d05e9969ec0f');\n",
              "          const dataTable =\n",
              "            await google.colab.kernel.invokeFunction('convertToInteractive',\n",
              "                                                     [key], {});\n",
              "          if (!dataTable) return;\n",
              "\n",
              "          const docLinkHtml = 'Like what you see? Visit the ' +\n",
              "            '<a target=\"_blank\" href=https://colab.research.google.com/notebooks/data_table.ipynb>data table notebook</a>'\n",
              "            + ' to learn more about interactive tables.';\n",
              "          element.innerHTML = '';\n",
              "          dataTable['output_type'] = 'display_data';\n",
              "          await google.colab.output.renderOutput(dataTable, element);\n",
              "          const docLink = document.createElement('div');\n",
              "          docLink.innerHTML = docLinkHtml;\n",
              "          element.appendChild(docLink);\n",
              "        }\n",
              "      </script>\n",
              "    </div>\n",
              "  </div>\n",
              "  "
            ]
          },
          "metadata": {},
          "execution_count": 64
        }
      ]
    },
    {
      "cell_type": "code",
      "source": [
        "# Sort model results by MAE and plot them\n",
        "model_results[[\"mae\"]].sort_values(by=\"mae\").plot(figsize=(10, 7), kind=\"bar\");"
      ],
      "metadata": {
        "colab": {
          "base_uri": "https://localhost:8080/",
          "height": 533
        },
        "id": "cPDdHyPvK0oh",
        "outputId": "7419145e-a925-44e7-a042-e36003211dea"
      },
      "execution_count": null,
      "outputs": [
        {
          "output_type": "display_data",
          "data": {
            "text/plain": [
              "<Figure size 720x504 with 1 Axes>"
            ],
            "image/png": "[encoded data removed]"
          },
          "metadata": {
            "needs_background": "light"
          }
        }
      ]
    }
  ]
}